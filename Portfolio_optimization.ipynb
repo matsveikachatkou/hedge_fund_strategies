{
 "cells": [
  {
   "cell_type": "markdown",
   "metadata": {},
   "source": [
    "# Problem set 5"
   ]
  },
  {
   "cell_type": "code",
   "execution_count": 1,
   "metadata": {},
   "outputs": [],
   "source": [
    "import pandas as pd\n",
    "import numpy as np\n",
    "import statsmodels.api as sm\n",
    "import scipy.optimize as sco\n",
    "import matplotlib.pyplot as plt"
   ]
  },
  {
   "cell_type": "code",
   "execution_count": 2,
   "metadata": {},
   "outputs": [],
   "source": [
    "file = 'PS_5_Portfolio_Construction_Risk_Management.xlsx'"
   ]
  },
  {
   "cell_type": "code",
   "execution_count": 3,
   "metadata": {},
   "outputs": [
    {
     "data": {
      "text/html": [
       "<div>\n",
       "<style scoped>\n",
       "    .dataframe tbody tr th:only-of-type {\n",
       "        vertical-align: middle;\n",
       "    }\n",
       "\n",
       "    .dataframe tbody tr th {\n",
       "        vertical-align: top;\n",
       "    }\n",
       "\n",
       "    .dataframe thead th {\n",
       "        text-align: right;\n",
       "    }\n",
       "</style>\n",
       "<table border=\"1\" class=\"dataframe\">\n",
       "  <thead>\n",
       "    <tr style=\"text-align: right;\">\n",
       "      <th></th>\n",
       "      <th>Ln/Sh Eq Hedge Fund USD</th>\n",
       "      <th>Eq Mkt Ntr Hedge Fund USD</th>\n",
       "      <th>Ded Sh Bs Hedge Fund USD</th>\n",
       "      <th>Global Mac Hedge Fund USD</th>\n",
       "      <th>Mngd Fut Hedge Fund USD</th>\n",
       "      <th>Emg Mkts Hedge Fund USD</th>\n",
       "      <th>Evnt Drvn Hedge Fund USD</th>\n",
       "      <th>Cnvrt Arb Hedge Fund USD</th>\n",
       "      <th>Fx Inc Arb Hedge Fund USD</th>\n",
       "      <th>DJCS Hedge Fund USD</th>\n",
       "    </tr>\n",
       "    <tr>\n",
       "      <th>date</th>\n",
       "      <th></th>\n",
       "      <th></th>\n",
       "      <th></th>\n",
       "      <th></th>\n",
       "      <th></th>\n",
       "      <th></th>\n",
       "      <th></th>\n",
       "      <th></th>\n",
       "      <th></th>\n",
       "      <th></th>\n",
       "    </tr>\n",
       "  </thead>\n",
       "  <tbody>\n",
       "    <tr>\n",
       "      <th>1994-01-31</th>\n",
       "      <td>0.011733</td>\n",
       "      <td>-0.005467</td>\n",
       "      <td>-0.016267</td>\n",
       "      <td>0.001433</td>\n",
       "      <td>0.001933</td>\n",
       "      <td>0.105133</td>\n",
       "      <td>0.036533</td>\n",
       "      <td>0.003333</td>\n",
       "      <td>0.012733</td>\n",
       "      <td>0.011133</td>\n",
       "    </tr>\n",
       "    <tr>\n",
       "      <th>1994-02-28</th>\n",
       "      <td>-0.025011</td>\n",
       "      <td>0.002106</td>\n",
       "      <td>0.019713</td>\n",
       "      <td>-0.056811</td>\n",
       "      <td>0.011667</td>\n",
       "      <td>-0.011705</td>\n",
       "      <td>-0.001850</td>\n",
       "      <td>0.001188</td>\n",
       "      <td>-0.020346</td>\n",
       "      <td>-0.041240</td>\n",
       "    </tr>\n",
       "    <tr>\n",
       "      <th>1994-03-31</th>\n",
       "      <td>-0.039114</td>\n",
       "      <td>-0.002514</td>\n",
       "      <td>0.071827</td>\n",
       "      <td>-0.042854</td>\n",
       "      <td>0.025923</td>\n",
       "      <td>-0.046227</td>\n",
       "      <td>-0.013051</td>\n",
       "      <td>-0.009758</td>\n",
       "      <td>-0.016930</td>\n",
       "      <td>-0.035777</td>\n",
       "    </tr>\n",
       "    <tr>\n",
       "      <th>1994-04-29</th>\n",
       "      <td>-0.015720</td>\n",
       "      <td>0.002397</td>\n",
       "      <td>0.012710</td>\n",
       "      <td>-0.016033</td>\n",
       "      <td>0.008437</td>\n",
       "      <td>-0.083673</td>\n",
       "      <td>-0.006673</td>\n",
       "      <td>-0.025332</td>\n",
       "      <td>-0.002165</td>\n",
       "      <td>-0.017542</td>\n",
       "    </tr>\n",
       "    <tr>\n",
       "      <th>1994-05-31</th>\n",
       "      <td>0.005550</td>\n",
       "      <td>-0.001229</td>\n",
       "      <td>0.022357</td>\n",
       "      <td>0.037839</td>\n",
       "      <td>0.007497</td>\n",
       "      <td>-0.007453</td>\n",
       "      <td>-0.001604</td>\n",
       "      <td>-0.010329</td>\n",
       "      <td>0.007780</td>\n",
       "      <td>0.022178</td>\n",
       "    </tr>\n",
       "  </tbody>\n",
       "</table>\n",
       "</div>"
      ],
      "text/plain": [
       "            Ln/Sh Eq Hedge Fund USD  Eq Mkt Ntr Hedge Fund USD  \\\n",
       "date                                                             \n",
       "1994-01-31                 0.011733                  -0.005467   \n",
       "1994-02-28                -0.025011                   0.002106   \n",
       "1994-03-31                -0.039114                  -0.002514   \n",
       "1994-04-29                -0.015720                   0.002397   \n",
       "1994-05-31                 0.005550                  -0.001229   \n",
       "\n",
       "            Ded Sh Bs Hedge Fund USD  Global Mac Hedge Fund USD  \\\n",
       "date                                                              \n",
       "1994-01-31                 -0.016267                   0.001433   \n",
       "1994-02-28                  0.019713                  -0.056811   \n",
       "1994-03-31                  0.071827                  -0.042854   \n",
       "1994-04-29                  0.012710                  -0.016033   \n",
       "1994-05-31                  0.022357                   0.037839   \n",
       "\n",
       "            Mngd Fut Hedge Fund USD  Emg Mkts Hedge Fund USD  \\\n",
       "date                                                           \n",
       "1994-01-31                 0.001933                 0.105133   \n",
       "1994-02-28                 0.011667                -0.011705   \n",
       "1994-03-31                 0.025923                -0.046227   \n",
       "1994-04-29                 0.008437                -0.083673   \n",
       "1994-05-31                 0.007497                -0.007453   \n",
       "\n",
       "            Evnt Drvn Hedge Fund USD  Cnvrt Arb Hedge Fund USD  \\\n",
       "date                                                             \n",
       "1994-01-31                  0.036533                  0.003333   \n",
       "1994-02-28                 -0.001850                  0.001188   \n",
       "1994-03-31                 -0.013051                 -0.009758   \n",
       "1994-04-29                 -0.006673                 -0.025332   \n",
       "1994-05-31                 -0.001604                 -0.010329   \n",
       "\n",
       "            Fx Inc Arb Hedge Fund USD  DJCS Hedge Fund USD  \n",
       "date                                                        \n",
       "1994-01-31                   0.012733             0.011133  \n",
       "1994-02-28                  -0.020346            -0.041240  \n",
       "1994-03-31                  -0.016930            -0.035777  \n",
       "1994-04-29                  -0.002165            -0.017542  \n",
       "1994-05-31                   0.007780             0.022178  "
      ]
     },
     "execution_count": 3,
     "metadata": {},
     "output_type": "execute_result"
    }
   ],
   "source": [
    "# import total returns\n",
    "rets = pd.read_excel(file, sheet_name='total_returns', parse_dates=[\"date\"], index_col='date')\n",
    "rets.head()"
   ]
  },
  {
   "cell_type": "code",
   "execution_count": 4,
   "metadata": {},
   "outputs": [
    {
     "data": {
      "text/html": [
       "<div>\n",
       "<style scoped>\n",
       "    .dataframe tbody tr th:only-of-type {\n",
       "        vertical-align: middle;\n",
       "    }\n",
       "\n",
       "    .dataframe tbody tr th {\n",
       "        vertical-align: top;\n",
       "    }\n",
       "\n",
       "    .dataframe thead th {\n",
       "        text-align: right;\n",
       "    }\n",
       "</style>\n",
       "<table border=\"1\" class=\"dataframe\">\n",
       "  <thead>\n",
       "    <tr style=\"text-align: right;\">\n",
       "      <th></th>\n",
       "      <th>RF</th>\n",
       "      <th>Mkt-RF</th>\n",
       "      <th>SMB</th>\n",
       "      <th>HML</th>\n",
       "      <th>UMD</th>\n",
       "    </tr>\n",
       "    <tr>\n",
       "      <th>date</th>\n",
       "      <th></th>\n",
       "      <th></th>\n",
       "      <th></th>\n",
       "      <th></th>\n",
       "      <th></th>\n",
       "    </tr>\n",
       "  </thead>\n",
       "  <tbody>\n",
       "    <tr>\n",
       "      <th>1994-01-31</th>\n",
       "      <td>0.0025</td>\n",
       "      <td>0.0290</td>\n",
       "      <td>0.0011</td>\n",
       "      <td>0.0215</td>\n",
       "      <td>0.0009</td>\n",
       "    </tr>\n",
       "    <tr>\n",
       "      <th>1994-02-28</th>\n",
       "      <td>0.0021</td>\n",
       "      <td>-0.0263</td>\n",
       "      <td>0.0272</td>\n",
       "      <td>-0.0137</td>\n",
       "      <td>-0.0027</td>\n",
       "    </tr>\n",
       "    <tr>\n",
       "      <th>1994-03-31</th>\n",
       "      <td>0.0027</td>\n",
       "      <td>-0.0485</td>\n",
       "      <td>-0.0090</td>\n",
       "      <td>0.0129</td>\n",
       "      <td>-0.0131</td>\n",
       "    </tr>\n",
       "    <tr>\n",
       "      <th>1994-04-29</th>\n",
       "      <td>0.0027</td>\n",
       "      <td>0.0068</td>\n",
       "      <td>-0.0088</td>\n",
       "      <td>0.0166</td>\n",
       "      <td>0.0039</td>\n",
       "    </tr>\n",
       "    <tr>\n",
       "      <th>1994-05-31</th>\n",
       "      <td>0.0032</td>\n",
       "      <td>0.0062</td>\n",
       "      <td>-0.0205</td>\n",
       "      <td>0.0012</td>\n",
       "      <td>-0.0222</td>\n",
       "    </tr>\n",
       "  </tbody>\n",
       "</table>\n",
       "</div>"
      ],
      "text/plain": [
       "                RF  Mkt-RF     SMB     HML     UMD\n",
       "date                                              \n",
       "1994-01-31  0.0025  0.0290  0.0011  0.0215  0.0009\n",
       "1994-02-28  0.0021 -0.0263  0.0272 -0.0137 -0.0027\n",
       "1994-03-31  0.0027 -0.0485 -0.0090  0.0129 -0.0131\n",
       "1994-04-29  0.0027  0.0068 -0.0088  0.0166  0.0039\n",
       "1994-05-31  0.0032  0.0062 -0.0205  0.0012 -0.0222"
      ]
     },
     "execution_count": 4,
     "metadata": {},
     "output_type": "execute_result"
    }
   ],
   "source": [
    "# import factors\n",
    "factors = pd.read_excel(file, sheet_name='factors', parse_dates=[\"date\"], index_col='date')\n",
    "factors.head()"
   ]
  },
  {
   "cell_type": "code",
   "execution_count": 5,
   "metadata": {},
   "outputs": [],
   "source": [
    "# excess returns\n",
    "xrets = rets.sub(factors.loc[:, \"RF\"], axis = 0)"
   ]
  },
  {
   "cell_type": "markdown",
   "metadata": {},
   "source": [
    "# Equally weighted portfolio"
   ]
  },
  {
   "cell_type": "code",
   "execution_count": 6,
   "metadata": {},
   "outputs": [
    {
     "data": {
      "text/plain": [
       "array([0.11111111, 0.11111111, 0.11111111, 0.11111111, 0.11111111,\n",
       "       0.11111111, 0.11111111, 0.11111111, 0.11111111])"
      ]
     },
     "execution_count": 6,
     "metadata": {},
     "output_type": "execute_result"
    }
   ],
   "source": [
    "weights = np.ones(9) / 9\n",
    "weights"
   ]
  },
  {
   "cell_type": "code",
   "execution_count": 7,
   "metadata": {},
   "outputs": [
    {
     "data": {
      "text/html": [
       "<div>\n",
       "<style scoped>\n",
       "    .dataframe tbody tr th:only-of-type {\n",
       "        vertical-align: middle;\n",
       "    }\n",
       "\n",
       "    .dataframe tbody tr th {\n",
       "        vertical-align: top;\n",
       "    }\n",
       "\n",
       "    .dataframe thead th {\n",
       "        text-align: right;\n",
       "    }\n",
       "</style>\n",
       "<table border=\"1\" class=\"dataframe\">\n",
       "  <thead>\n",
       "    <tr style=\"text-align: right;\">\n",
       "      <th></th>\n",
       "      <th>Ln/Sh Eq Hedge Fund USD</th>\n",
       "      <th>Eq Mkt Ntr Hedge Fund USD</th>\n",
       "      <th>Ded Sh Bs Hedge Fund USD</th>\n",
       "      <th>Global Mac Hedge Fund USD</th>\n",
       "      <th>Mngd Fut Hedge Fund USD</th>\n",
       "      <th>Emg Mkts Hedge Fund USD</th>\n",
       "      <th>Evnt Drvn Hedge Fund USD</th>\n",
       "      <th>Cnvrt Arb Hedge Fund USD</th>\n",
       "      <th>Fx Inc Arb Hedge Fund USD</th>\n",
       "    </tr>\n",
       "    <tr>\n",
       "      <th>date</th>\n",
       "      <th></th>\n",
       "      <th></th>\n",
       "      <th></th>\n",
       "      <th></th>\n",
       "      <th></th>\n",
       "      <th></th>\n",
       "      <th></th>\n",
       "      <th></th>\n",
       "      <th></th>\n",
       "    </tr>\n",
       "  </thead>\n",
       "  <tbody>\n",
       "    <tr>\n",
       "      <th>1994-01-31</th>\n",
       "      <td>0.009233</td>\n",
       "      <td>-0.007967</td>\n",
       "      <td>-0.018767</td>\n",
       "      <td>-0.001067</td>\n",
       "      <td>-0.000567</td>\n",
       "      <td>0.102633</td>\n",
       "      <td>0.034033</td>\n",
       "      <td>0.000833</td>\n",
       "      <td>0.010233</td>\n",
       "    </tr>\n",
       "    <tr>\n",
       "      <th>1994-02-28</th>\n",
       "      <td>-0.027111</td>\n",
       "      <td>0.000006</td>\n",
       "      <td>0.017613</td>\n",
       "      <td>-0.058911</td>\n",
       "      <td>0.009567</td>\n",
       "      <td>-0.013805</td>\n",
       "      <td>-0.003950</td>\n",
       "      <td>-0.000912</td>\n",
       "      <td>-0.022446</td>\n",
       "    </tr>\n",
       "    <tr>\n",
       "      <th>1994-03-31</th>\n",
       "      <td>-0.041814</td>\n",
       "      <td>-0.005214</td>\n",
       "      <td>0.069127</td>\n",
       "      <td>-0.045554</td>\n",
       "      <td>0.023223</td>\n",
       "      <td>-0.048927</td>\n",
       "      <td>-0.015751</td>\n",
       "      <td>-0.012458</td>\n",
       "      <td>-0.019630</td>\n",
       "    </tr>\n",
       "    <tr>\n",
       "      <th>1994-04-29</th>\n",
       "      <td>-0.018420</td>\n",
       "      <td>-0.000303</td>\n",
       "      <td>0.010010</td>\n",
       "      <td>-0.018733</td>\n",
       "      <td>0.005737</td>\n",
       "      <td>-0.086373</td>\n",
       "      <td>-0.009373</td>\n",
       "      <td>-0.028032</td>\n",
       "      <td>-0.004865</td>\n",
       "    </tr>\n",
       "    <tr>\n",
       "      <th>1994-05-31</th>\n",
       "      <td>0.002350</td>\n",
       "      <td>-0.004429</td>\n",
       "      <td>0.019157</td>\n",
       "      <td>0.034639</td>\n",
       "      <td>0.004297</td>\n",
       "      <td>-0.010653</td>\n",
       "      <td>-0.004804</td>\n",
       "      <td>-0.013529</td>\n",
       "      <td>0.004580</td>\n",
       "    </tr>\n",
       "  </tbody>\n",
       "</table>\n",
       "</div>"
      ],
      "text/plain": [
       "            Ln/Sh Eq Hedge Fund USD  Eq Mkt Ntr Hedge Fund USD  \\\n",
       "date                                                             \n",
       "1994-01-31                 0.009233                  -0.007967   \n",
       "1994-02-28                -0.027111                   0.000006   \n",
       "1994-03-31                -0.041814                  -0.005214   \n",
       "1994-04-29                -0.018420                  -0.000303   \n",
       "1994-05-31                 0.002350                  -0.004429   \n",
       "\n",
       "            Ded Sh Bs Hedge Fund USD  Global Mac Hedge Fund USD  \\\n",
       "date                                                              \n",
       "1994-01-31                 -0.018767                  -0.001067   \n",
       "1994-02-28                  0.017613                  -0.058911   \n",
       "1994-03-31                  0.069127                  -0.045554   \n",
       "1994-04-29                  0.010010                  -0.018733   \n",
       "1994-05-31                  0.019157                   0.034639   \n",
       "\n",
       "            Mngd Fut Hedge Fund USD  Emg Mkts Hedge Fund USD  \\\n",
       "date                                                           \n",
       "1994-01-31                -0.000567                 0.102633   \n",
       "1994-02-28                 0.009567                -0.013805   \n",
       "1994-03-31                 0.023223                -0.048927   \n",
       "1994-04-29                 0.005737                -0.086373   \n",
       "1994-05-31                 0.004297                -0.010653   \n",
       "\n",
       "            Evnt Drvn Hedge Fund USD  Cnvrt Arb Hedge Fund USD  \\\n",
       "date                                                             \n",
       "1994-01-31                  0.034033                  0.000833   \n",
       "1994-02-28                 -0.003950                 -0.000912   \n",
       "1994-03-31                 -0.015751                 -0.012458   \n",
       "1994-04-29                 -0.009373                 -0.028032   \n",
       "1994-05-31                 -0.004804                 -0.013529   \n",
       "\n",
       "            Fx Inc Arb Hedge Fund USD  \n",
       "date                                   \n",
       "1994-01-31                   0.010233  \n",
       "1994-02-28                  -0.022446  \n",
       "1994-03-31                  -0.019630  \n",
       "1994-04-29                  -0.004865  \n",
       "1994-05-31                   0.004580  "
      ]
     },
     "execution_count": 7,
     "metadata": {},
     "output_type": "execute_result"
    }
   ],
   "source": [
    "#drop DJCS Hedge Fund USD\n",
    "rets = rets.drop(\"DJCS Hedge Fund USD\", axis=1)\n",
    "xrets = xrets.drop(\"DJCS Hedge Fund USD\", axis=1)\n",
    "xrets.head()"
   ]
  },
  {
   "cell_type": "code",
   "execution_count": 8,
   "metadata": {},
   "outputs": [
    {
     "data": {
      "text/plain": [
       "date\n",
       "1994-01-31    0.014289\n",
       "1994-02-28   -0.011105\n",
       "1994-03-31   -0.010778\n",
       "1994-04-29   -0.016705\n",
       "1994-05-31    0.003512\n",
       "dtype: float64"
      ]
     },
     "execution_count": 8,
     "metadata": {},
     "output_type": "execute_result"
    }
   ],
   "source": [
    "portfolio = (xrets * weights).sum(axis=1)\n",
    "portfolio.head()"
   ]
  },
  {
   "cell_type": "code",
   "execution_count": 9,
   "metadata": {},
   "outputs": [],
   "source": [
    "# define Sharpe ratio function\n",
    "def sharpe_ratio(xrets_df):\n",
    "    \n",
    "    #annualized volatility\n",
    "    volatility = xrets_df.std() * np.sqrt(12)\n",
    "    \n",
    "    #annualized return\n",
    "    ann_ret = xrets_df.mean() * 12\n",
    "\n",
    "    sr = ann_ret / volatility\n",
    "    \n",
    "    return sr\n",
    "    "
   ]
  },
  {
   "cell_type": "code",
   "execution_count": 10,
   "metadata": {},
   "outputs": [],
   "source": [
    "# define periods\n",
    "first_period = portfolio.index <= \"31-12-2003\"\n",
    "second_period = portfolio.index >= \"31-12-2003\""
   ]
  },
  {
   "cell_type": "code",
   "execution_count": 11,
   "metadata": {},
   "outputs": [
    {
     "name": "stdout",
     "output_type": "stream",
     "text": [
      "1994-2003 SR:  1.0683022022858935\n",
      "2003-20012 SR:  0.4979560778327751\n",
      "full sample SR:  0.7661663352339293\n"
     ]
    }
   ],
   "source": [
    "print(\"1994-2003 SR: \", sharpe_ratio(portfolio.loc[first_period]))\n",
    "print(\"2003-20012 SR: \", sharpe_ratio(portfolio.loc[second_period]))\n",
    "print(\"full sample SR: \", sharpe_ratio(portfolio))"
   ]
  },
  {
   "cell_type": "markdown",
   "metadata": {},
   "source": [
    "# Portfolio optimization"
   ]
  },
  {
   "cell_type": "code",
   "execution_count": 12,
   "metadata": {},
   "outputs": [],
   "source": [
    "# function to ne minimized (negative SR)\n",
    "\n",
    "def min_sharpe_ratio(weights, xrets):\n",
    "    \n",
    "    portfolio = (xrets * weights).sum(axis=1)\n",
    "    sr = sharpe_ratio(portfolio)\n",
    "    \n",
    "    return - sr"
   ]
  },
  {
   "cell_type": "code",
   "execution_count": 13,
   "metadata": {},
   "outputs": [
    {
     "data": {
      "text/plain": [
       "9"
      ]
     },
     "execution_count": 13,
     "metadata": {},
     "output_type": "execute_result"
    }
   ],
   "source": [
    "# number of assets\n",
    "n = xrets.shape[1]\n",
    "n"
   ]
  },
  {
   "cell_type": "markdown",
   "metadata": {},
   "source": [
    "Define bounds for minimization function (should be equal to the niumber of weights)"
   ]
  },
  {
   "cell_type": "code",
   "execution_count": 14,
   "metadata": {},
   "outputs": [
    {
     "data": {
      "text/plain": [
       "((0, 1), (0, 1), (0, 1), (0, 1), (0, 1), (0, 1), (0, 1), (0, 1), (0, 1))"
      ]
     },
     "execution_count": 14,
     "metadata": {},
     "output_type": "execute_result"
    }
   ],
   "source": [
    "# tuple of tuples\n",
    "bounds = tuple((0,1) for i in range(n))\n",
    "bounds"
   ]
  },
  {
   "cell_type": "code",
   "execution_count": 15,
   "metadata": {},
   "outputs": [],
   "source": [
    "# Define constraints (as dictionary)\n",
    "cons = ({'type': 'eq', 'fun': lambda x: np.sum(x) - 1})"
   ]
  },
  {
   "cell_type": "markdown",
   "metadata": {},
   "source": [
    "Initial guess: for instance equal weights portfolio"
   ]
  },
  {
   "cell_type": "code",
   "execution_count": 16,
   "metadata": {},
   "outputs": [
    {
     "data": {
      "text/plain": [
       "-1.0683022022858935"
      ]
     },
     "execution_count": 16,
     "metadata": {},
     "output_type": "execute_result"
    }
   ],
   "source": [
    "# try with equal weights\n",
    "min_sharpe_ratio(weights, xrets.loc[first_period])"
   ]
  },
  {
   "cell_type": "code",
   "execution_count": 17,
   "metadata": {},
   "outputs": [],
   "source": [
    "#actual minimizatio function\n",
    "opts = sco.minimize(min_sharpe_ratio, weights, xrets.loc[first_period],\n",
    "                   method='SLSQP',\n",
    "                   bounds=bounds,\n",
    "                   constraints=cons)"
   ]
  },
  {
   "cell_type": "code",
   "execution_count": 18,
   "metadata": {},
   "outputs": [
    {
     "data": {
      "text/plain": [
       "     fun: -2.2550360551832487\n",
       "     jac: array([ 1.31249428e-03, -3.61800194e-04,  1.42547488e-03, -4.38958406e-04,\n",
       "        2.47208327e-01,  2.81538409e+00,  1.03583932e-03, -1.18046999e-04,\n",
       "        4.42595184e-02])\n",
       " message: 'Optimization terminated successfully'\n",
       "    nfev: 108\n",
       "     nit: 10\n",
       "    njev: 10\n",
       "  status: 0\n",
       " success: True\n",
       "       x: array([0.04012641, 0.66984384, 0.07194383, 0.00569959, 0.        ,\n",
       "       0.        , 0.09949473, 0.1128916 , 0.        ])"
      ]
     },
     "execution_count": 18,
     "metadata": {},
     "output_type": "execute_result"
    }
   ],
   "source": [
    "opts"
   ]
  },
  {
   "cell_type": "code",
   "execution_count": 19,
   "metadata": {},
   "outputs": [
    {
     "data": {
      "text/plain": [
       "array([0.04012641, 0.66984384, 0.07194383, 0.00569959, 0.        ,\n",
       "       0.        , 0.09949473, 0.1128916 , 0.        ])"
      ]
     },
     "execution_count": 19,
     "metadata": {},
     "output_type": "execute_result"
    }
   ],
   "source": [
    "# extract optimal weights\n",
    "opt_weights = opts['x']\n",
    "opt_weights"
   ]
  },
  {
   "cell_type": "code",
   "execution_count": 20,
   "metadata": {},
   "outputs": [],
   "source": [
    "# compute optimal portfolio returns\n",
    "optimal_portfolio = (opt_weights * xrets).sum(axis=1)"
   ]
  },
  {
   "cell_type": "code",
   "execution_count": 21,
   "metadata": {},
   "outputs": [
    {
     "name": "stdout",
     "output_type": "stream",
     "text": [
      "1994-2003 SR:  2.2550360551832487\n",
      "2003-20012 SR:  -0.07477237438670108\n",
      "full sample SR:  0.34077660866209564\n"
     ]
    }
   ],
   "source": [
    "print(\"1994-2003 SR: \", sharpe_ratio(optimal_portfolio.loc[first_period]))\n",
    "print(\"2003-20012 SR: \", sharpe_ratio(optimal_portfolio.loc[second_period]))\n",
    "print(\"full sample SR: \", sharpe_ratio(optimal_portfolio))"
   ]
  },
  {
   "cell_type": "markdown",
   "metadata": {},
   "source": [
    "# 5.2 Risk management and drawdown control"
   ]
  },
  {
   "cell_type": "code",
   "execution_count": 22,
   "metadata": {},
   "outputs": [],
   "source": [
    "# create a rolling volatility table (12 month)\n",
    "rolling_vol = xrets.shift().rolling(12).std() * np.sqrt(12) #shift!!! cause rolling includes current return"
   ]
  },
  {
   "cell_type": "code",
   "execution_count": 23,
   "metadata": {},
   "outputs": [
    {
     "data": {
      "text/html": [
       "<div>\n",
       "<style scoped>\n",
       "    .dataframe tbody tr th:only-of-type {\n",
       "        vertical-align: middle;\n",
       "    }\n",
       "\n",
       "    .dataframe tbody tr th {\n",
       "        vertical-align: top;\n",
       "    }\n",
       "\n",
       "    .dataframe thead th {\n",
       "        text-align: right;\n",
       "    }\n",
       "</style>\n",
       "<table border=\"1\" class=\"dataframe\">\n",
       "  <thead>\n",
       "    <tr style=\"text-align: right;\">\n",
       "      <th></th>\n",
       "      <th>Ln/Sh Eq Hedge Fund USD</th>\n",
       "      <th>Eq Mkt Ntr Hedge Fund USD</th>\n",
       "      <th>Ded Sh Bs Hedge Fund USD</th>\n",
       "      <th>Global Mac Hedge Fund USD</th>\n",
       "      <th>Mngd Fut Hedge Fund USD</th>\n",
       "      <th>Emg Mkts Hedge Fund USD</th>\n",
       "      <th>Evnt Drvn Hedge Fund USD</th>\n",
       "      <th>Cnvrt Arb Hedge Fund USD</th>\n",
       "      <th>Fx Inc Arb Hedge Fund USD</th>\n",
       "    </tr>\n",
       "    <tr>\n",
       "      <th>date</th>\n",
       "      <th></th>\n",
       "      <th></th>\n",
       "      <th></th>\n",
       "      <th></th>\n",
       "      <th></th>\n",
       "      <th></th>\n",
       "      <th></th>\n",
       "      <th></th>\n",
       "      <th></th>\n",
       "    </tr>\n",
       "  </thead>\n",
       "  <tbody>\n",
       "    <tr>\n",
       "      <th>1994-01-31</th>\n",
       "      <td>NaN</td>\n",
       "      <td>NaN</td>\n",
       "      <td>NaN</td>\n",
       "      <td>NaN</td>\n",
       "      <td>NaN</td>\n",
       "      <td>NaN</td>\n",
       "      <td>NaN</td>\n",
       "      <td>NaN</td>\n",
       "      <td>NaN</td>\n",
       "    </tr>\n",
       "    <tr>\n",
       "      <th>1994-02-28</th>\n",
       "      <td>NaN</td>\n",
       "      <td>NaN</td>\n",
       "      <td>NaN</td>\n",
       "      <td>NaN</td>\n",
       "      <td>NaN</td>\n",
       "      <td>NaN</td>\n",
       "      <td>NaN</td>\n",
       "      <td>NaN</td>\n",
       "      <td>NaN</td>\n",
       "    </tr>\n",
       "    <tr>\n",
       "      <th>1994-03-31</th>\n",
       "      <td>NaN</td>\n",
       "      <td>NaN</td>\n",
       "      <td>NaN</td>\n",
       "      <td>NaN</td>\n",
       "      <td>NaN</td>\n",
       "      <td>NaN</td>\n",
       "      <td>NaN</td>\n",
       "      <td>NaN</td>\n",
       "      <td>NaN</td>\n",
       "    </tr>\n",
       "    <tr>\n",
       "      <th>1994-04-29</th>\n",
       "      <td>NaN</td>\n",
       "      <td>NaN</td>\n",
       "      <td>NaN</td>\n",
       "      <td>NaN</td>\n",
       "      <td>NaN</td>\n",
       "      <td>NaN</td>\n",
       "      <td>NaN</td>\n",
       "      <td>NaN</td>\n",
       "      <td>NaN</td>\n",
       "    </tr>\n",
       "    <tr>\n",
       "      <th>1994-05-31</th>\n",
       "      <td>NaN</td>\n",
       "      <td>NaN</td>\n",
       "      <td>NaN</td>\n",
       "      <td>NaN</td>\n",
       "      <td>NaN</td>\n",
       "      <td>NaN</td>\n",
       "      <td>NaN</td>\n",
       "      <td>NaN</td>\n",
       "      <td>NaN</td>\n",
       "    </tr>\n",
       "    <tr>\n",
       "      <th>...</th>\n",
       "      <td>...</td>\n",
       "      <td>...</td>\n",
       "      <td>...</td>\n",
       "      <td>...</td>\n",
       "      <td>...</td>\n",
       "      <td>...</td>\n",
       "      <td>...</td>\n",
       "      <td>...</td>\n",
       "      <td>...</td>\n",
       "    </tr>\n",
       "    <tr>\n",
       "      <th>2012-02-29</th>\n",
       "      <td>0.101889</td>\n",
       "      <td>0.054173</td>\n",
       "      <td>0.182203</td>\n",
       "      <td>0.040854</td>\n",
       "      <td>0.112988</td>\n",
       "      <td>0.112016</td>\n",
       "      <td>0.089952</td>\n",
       "      <td>0.050253</td>\n",
       "      <td>0.017087</td>\n",
       "    </tr>\n",
       "    <tr>\n",
       "      <th>2012-03-30</th>\n",
       "      <td>0.104297</td>\n",
       "      <td>0.055238</td>\n",
       "      <td>0.185086</td>\n",
       "      <td>0.040393</td>\n",
       "      <td>0.110157</td>\n",
       "      <td>0.116276</td>\n",
       "      <td>0.090348</td>\n",
       "      <td>0.044936</td>\n",
       "      <td>0.017403</td>\n",
       "    </tr>\n",
       "    <tr>\n",
       "      <th>2012-04-30</th>\n",
       "      <td>0.104438</td>\n",
       "      <td>0.054703</td>\n",
       "      <td>0.184745</td>\n",
       "      <td>0.041557</td>\n",
       "      <td>0.110646</td>\n",
       "      <td>0.114238</td>\n",
       "      <td>0.091469</td>\n",
       "      <td>0.044615</td>\n",
       "      <td>0.016163</td>\n",
       "    </tr>\n",
       "    <tr>\n",
       "      <th>2012-05-31</th>\n",
       "      <td>0.102360</td>\n",
       "      <td>0.042557</td>\n",
       "      <td>0.184547</td>\n",
       "      <td>0.036906</td>\n",
       "      <td>0.092470</td>\n",
       "      <td>0.111075</td>\n",
       "      <td>0.089668</td>\n",
       "      <td>0.044765</td>\n",
       "      <td>0.015542</td>\n",
       "    </tr>\n",
       "    <tr>\n",
       "      <th>2012-06-29</th>\n",
       "      <td>0.110015</td>\n",
       "      <td>0.052068</td>\n",
       "      <td>0.205664</td>\n",
       "      <td>0.035362</td>\n",
       "      <td>0.087305</td>\n",
       "      <td>0.116197</td>\n",
       "      <td>0.089885</td>\n",
       "      <td>0.045776</td>\n",
       "      <td>0.015523</td>\n",
       "    </tr>\n",
       "  </tbody>\n",
       "</table>\n",
       "<p>222 rows × 9 columns</p>\n",
       "</div>"
      ],
      "text/plain": [
       "            Ln/Sh Eq Hedge Fund USD  Eq Mkt Ntr Hedge Fund USD  \\\n",
       "date                                                             \n",
       "1994-01-31                      NaN                        NaN   \n",
       "1994-02-28                      NaN                        NaN   \n",
       "1994-03-31                      NaN                        NaN   \n",
       "1994-04-29                      NaN                        NaN   \n",
       "1994-05-31                      NaN                        NaN   \n",
       "...                             ...                        ...   \n",
       "2012-02-29                 0.101889                   0.054173   \n",
       "2012-03-30                 0.104297                   0.055238   \n",
       "2012-04-30                 0.104438                   0.054703   \n",
       "2012-05-31                 0.102360                   0.042557   \n",
       "2012-06-29                 0.110015                   0.052068   \n",
       "\n",
       "            Ded Sh Bs Hedge Fund USD  Global Mac Hedge Fund USD  \\\n",
       "date                                                              \n",
       "1994-01-31                       NaN                        NaN   \n",
       "1994-02-28                       NaN                        NaN   \n",
       "1994-03-31                       NaN                        NaN   \n",
       "1994-04-29                       NaN                        NaN   \n",
       "1994-05-31                       NaN                        NaN   \n",
       "...                              ...                        ...   \n",
       "2012-02-29                  0.182203                   0.040854   \n",
       "2012-03-30                  0.185086                   0.040393   \n",
       "2012-04-30                  0.184745                   0.041557   \n",
       "2012-05-31                  0.184547                   0.036906   \n",
       "2012-06-29                  0.205664                   0.035362   \n",
       "\n",
       "            Mngd Fut Hedge Fund USD  Emg Mkts Hedge Fund USD  \\\n",
       "date                                                           \n",
       "1994-01-31                      NaN                      NaN   \n",
       "1994-02-28                      NaN                      NaN   \n",
       "1994-03-31                      NaN                      NaN   \n",
       "1994-04-29                      NaN                      NaN   \n",
       "1994-05-31                      NaN                      NaN   \n",
       "...                             ...                      ...   \n",
       "2012-02-29                 0.112988                 0.112016   \n",
       "2012-03-30                 0.110157                 0.116276   \n",
       "2012-04-30                 0.110646                 0.114238   \n",
       "2012-05-31                 0.092470                 0.111075   \n",
       "2012-06-29                 0.087305                 0.116197   \n",
       "\n",
       "            Evnt Drvn Hedge Fund USD  Cnvrt Arb Hedge Fund USD  \\\n",
       "date                                                             \n",
       "1994-01-31                       NaN                       NaN   \n",
       "1994-02-28                       NaN                       NaN   \n",
       "1994-03-31                       NaN                       NaN   \n",
       "1994-04-29                       NaN                       NaN   \n",
       "1994-05-31                       NaN                       NaN   \n",
       "...                              ...                       ...   \n",
       "2012-02-29                  0.089952                  0.050253   \n",
       "2012-03-30                  0.090348                  0.044936   \n",
       "2012-04-30                  0.091469                  0.044615   \n",
       "2012-05-31                  0.089668                  0.044765   \n",
       "2012-06-29                  0.089885                  0.045776   \n",
       "\n",
       "            Fx Inc Arb Hedge Fund USD  \n",
       "date                                   \n",
       "1994-01-31                        NaN  \n",
       "1994-02-28                        NaN  \n",
       "1994-03-31                        NaN  \n",
       "1994-04-29                        NaN  \n",
       "1994-05-31                        NaN  \n",
       "...                               ...  \n",
       "2012-02-29                   0.017087  \n",
       "2012-03-30                   0.017403  \n",
       "2012-04-30                   0.016163  \n",
       "2012-05-31                   0.015542  \n",
       "2012-06-29                   0.015523  \n",
       "\n",
       "[222 rows x 9 columns]"
      ]
     },
     "execution_count": 23,
     "metadata": {},
     "output_type": "execute_result"
    }
   ],
   "source": [
    "rolling_vol"
   ]
  },
  {
   "cell_type": "code",
   "execution_count": 24,
   "metadata": {},
   "outputs": [],
   "source": [
    "#fill na with the first available data\n",
    "rolling_vol = rolling_vol.fillna(method=\"bfill\")"
   ]
  },
  {
   "cell_type": "code",
   "execution_count": 25,
   "metadata": {},
   "outputs": [
    {
     "data": {
      "text/html": [
       "<div>\n",
       "<style scoped>\n",
       "    .dataframe tbody tr th:only-of-type {\n",
       "        vertical-align: middle;\n",
       "    }\n",
       "\n",
       "    .dataframe tbody tr th {\n",
       "        vertical-align: top;\n",
       "    }\n",
       "\n",
       "    .dataframe thead th {\n",
       "        text-align: right;\n",
       "    }\n",
       "</style>\n",
       "<table border=\"1\" class=\"dataframe\">\n",
       "  <thead>\n",
       "    <tr style=\"text-align: right;\">\n",
       "      <th></th>\n",
       "      <th>Ln/Sh Eq Hedge Fund USD</th>\n",
       "      <th>Eq Mkt Ntr Hedge Fund USD</th>\n",
       "      <th>Ded Sh Bs Hedge Fund USD</th>\n",
       "      <th>Global Mac Hedge Fund USD</th>\n",
       "      <th>Mngd Fut Hedge Fund USD</th>\n",
       "      <th>Emg Mkts Hedge Fund USD</th>\n",
       "      <th>Evnt Drvn Hedge Fund USD</th>\n",
       "      <th>Cnvrt Arb Hedge Fund USD</th>\n",
       "      <th>Fx Inc Arb Hedge Fund USD</th>\n",
       "    </tr>\n",
       "    <tr>\n",
       "      <th>date</th>\n",
       "      <th></th>\n",
       "      <th></th>\n",
       "      <th></th>\n",
       "      <th></th>\n",
       "      <th></th>\n",
       "      <th></th>\n",
       "      <th></th>\n",
       "      <th></th>\n",
       "      <th></th>\n",
       "    </tr>\n",
       "  </thead>\n",
       "  <tbody>\n",
       "    <tr>\n",
       "      <th>1994-01-31</th>\n",
       "      <td>0.063729</td>\n",
       "      <td>0.023904</td>\n",
       "      <td>0.121047</td>\n",
       "      <td>0.093959</td>\n",
       "      <td>0.056643</td>\n",
       "      <td>0.24474</td>\n",
       "      <td>0.04671</td>\n",
       "      <td>0.033497</td>\n",
       "      <td>0.034054</td>\n",
       "    </tr>\n",
       "    <tr>\n",
       "      <th>1994-02-28</th>\n",
       "      <td>0.063729</td>\n",
       "      <td>0.023904</td>\n",
       "      <td>0.121047</td>\n",
       "      <td>0.093959</td>\n",
       "      <td>0.056643</td>\n",
       "      <td>0.24474</td>\n",
       "      <td>0.04671</td>\n",
       "      <td>0.033497</td>\n",
       "      <td>0.034054</td>\n",
       "    </tr>\n",
       "    <tr>\n",
       "      <th>1994-03-31</th>\n",
       "      <td>0.063729</td>\n",
       "      <td>0.023904</td>\n",
       "      <td>0.121047</td>\n",
       "      <td>0.093959</td>\n",
       "      <td>0.056643</td>\n",
       "      <td>0.24474</td>\n",
       "      <td>0.04671</td>\n",
       "      <td>0.033497</td>\n",
       "      <td>0.034054</td>\n",
       "    </tr>\n",
       "    <tr>\n",
       "      <th>1994-04-29</th>\n",
       "      <td>0.063729</td>\n",
       "      <td>0.023904</td>\n",
       "      <td>0.121047</td>\n",
       "      <td>0.093959</td>\n",
       "      <td>0.056643</td>\n",
       "      <td>0.24474</td>\n",
       "      <td>0.04671</td>\n",
       "      <td>0.033497</td>\n",
       "      <td>0.034054</td>\n",
       "    </tr>\n",
       "    <tr>\n",
       "      <th>1994-05-31</th>\n",
       "      <td>0.063729</td>\n",
       "      <td>0.023904</td>\n",
       "      <td>0.121047</td>\n",
       "      <td>0.093959</td>\n",
       "      <td>0.056643</td>\n",
       "      <td>0.24474</td>\n",
       "      <td>0.04671</td>\n",
       "      <td>0.033497</td>\n",
       "      <td>0.034054</td>\n",
       "    </tr>\n",
       "  </tbody>\n",
       "</table>\n",
       "</div>"
      ],
      "text/plain": [
       "            Ln/Sh Eq Hedge Fund USD  Eq Mkt Ntr Hedge Fund USD  \\\n",
       "date                                                             \n",
       "1994-01-31                 0.063729                   0.023904   \n",
       "1994-02-28                 0.063729                   0.023904   \n",
       "1994-03-31                 0.063729                   0.023904   \n",
       "1994-04-29                 0.063729                   0.023904   \n",
       "1994-05-31                 0.063729                   0.023904   \n",
       "\n",
       "            Ded Sh Bs Hedge Fund USD  Global Mac Hedge Fund USD  \\\n",
       "date                                                              \n",
       "1994-01-31                  0.121047                   0.093959   \n",
       "1994-02-28                  0.121047                   0.093959   \n",
       "1994-03-31                  0.121047                   0.093959   \n",
       "1994-04-29                  0.121047                   0.093959   \n",
       "1994-05-31                  0.121047                   0.093959   \n",
       "\n",
       "            Mngd Fut Hedge Fund USD  Emg Mkts Hedge Fund USD  \\\n",
       "date                                                           \n",
       "1994-01-31                 0.056643                  0.24474   \n",
       "1994-02-28                 0.056643                  0.24474   \n",
       "1994-03-31                 0.056643                  0.24474   \n",
       "1994-04-29                 0.056643                  0.24474   \n",
       "1994-05-31                 0.056643                  0.24474   \n",
       "\n",
       "            Evnt Drvn Hedge Fund USD  Cnvrt Arb Hedge Fund USD  \\\n",
       "date                                                             \n",
       "1994-01-31                   0.04671                  0.033497   \n",
       "1994-02-28                   0.04671                  0.033497   \n",
       "1994-03-31                   0.04671                  0.033497   \n",
       "1994-04-29                   0.04671                  0.033497   \n",
       "1994-05-31                   0.04671                  0.033497   \n",
       "\n",
       "            Fx Inc Arb Hedge Fund USD  \n",
       "date                                   \n",
       "1994-01-31                   0.034054  \n",
       "1994-02-28                   0.034054  \n",
       "1994-03-31                   0.034054  \n",
       "1994-04-29                   0.034054  \n",
       "1994-05-31                   0.034054  "
      ]
     },
     "execution_count": 25,
     "metadata": {},
     "output_type": "execute_result"
    }
   ],
   "source": [
    "rolling_vol.head()"
   ]
  },
  {
   "cell_type": "code",
   "execution_count": 26,
   "metadata": {},
   "outputs": [
    {
     "data": {
      "image/png": "[encoded data removed]",
      "text/plain": [
       "<Figure size 432x288 with 1 Axes>"
      ]
     },
     "metadata": {
      "needs_background": "light"
     },
     "output_type": "display_data"
    }
   ],
   "source": [
    "#plot volatility for FX Inc\n",
    "rolling_vol.loc[:, \"Fx Inc Arb Hedge Fund USD\"].plot()\n",
    "plt.title(\"Fx Inc Arb Hedge Fund USD\")\n",
    "plt.ylabel(\"12-month rolling annualized volatility\")\n",
    "plt.show()"
   ]
  },
  {
   "cell_type": "markdown",
   "metadata": {},
   "source": [
    "# Risk-managed strategies (reactive drowdown control)"
   ]
  },
  {
   "cell_type": "code",
   "execution_count": 27,
   "metadata": {},
   "outputs": [],
   "source": [
    "# cumulative returns without risk management\n",
    "cum_rets = (1 + rets).cumprod()\n",
    "\n",
    "# high water mark without risk management\n",
    "hwm = cum_rets.expanding().max()\n",
    "\n",
    "# drowdnowns without risk management\n",
    "dd = (hwm - cum_rets) / hwm"
   ]
  },
  {
   "cell_type": "code",
   "execution_count": 28,
   "metadata": {},
   "outputs": [
    {
     "data": {
      "text/html": [
       "<div>\n",
       "<style scoped>\n",
       "    .dataframe tbody tr th:only-of-type {\n",
       "        vertical-align: middle;\n",
       "    }\n",
       "\n",
       "    .dataframe tbody tr th {\n",
       "        vertical-align: top;\n",
       "    }\n",
       "\n",
       "    .dataframe thead th {\n",
       "        text-align: right;\n",
       "    }\n",
       "</style>\n",
       "<table border=\"1\" class=\"dataframe\">\n",
       "  <thead>\n",
       "    <tr style=\"text-align: right;\">\n",
       "      <th></th>\n",
       "      <th>Ln/Sh Eq Hedge Fund USD</th>\n",
       "      <th>Eq Mkt Ntr Hedge Fund USD</th>\n",
       "      <th>Ded Sh Bs Hedge Fund USD</th>\n",
       "      <th>Global Mac Hedge Fund USD</th>\n",
       "      <th>Mngd Fut Hedge Fund USD</th>\n",
       "      <th>Emg Mkts Hedge Fund USD</th>\n",
       "      <th>Evnt Drvn Hedge Fund USD</th>\n",
       "      <th>Cnvrt Arb Hedge Fund USD</th>\n",
       "      <th>Fx Inc Arb Hedge Fund USD</th>\n",
       "    </tr>\n",
       "    <tr>\n",
       "      <th>date</th>\n",
       "      <th></th>\n",
       "      <th></th>\n",
       "      <th></th>\n",
       "      <th></th>\n",
       "      <th></th>\n",
       "      <th></th>\n",
       "      <th></th>\n",
       "      <th></th>\n",
       "      <th></th>\n",
       "    </tr>\n",
       "  </thead>\n",
       "  <tbody>\n",
       "    <tr>\n",
       "      <th>1994-01-31</th>\n",
       "      <td>0.000000</td>\n",
       "      <td>0.000000</td>\n",
       "      <td>0.000000</td>\n",
       "      <td>0.000000</td>\n",
       "      <td>0.000000</td>\n",
       "      <td>0.000000</td>\n",
       "      <td>0.000000</td>\n",
       "      <td>0.000000</td>\n",
       "      <td>0.000000</td>\n",
       "    </tr>\n",
       "    <tr>\n",
       "      <th>1994-02-28</th>\n",
       "      <td>0.025011</td>\n",
       "      <td>0.000000</td>\n",
       "      <td>0.000000</td>\n",
       "      <td>0.056811</td>\n",
       "      <td>0.000000</td>\n",
       "      <td>0.011705</td>\n",
       "      <td>0.001850</td>\n",
       "      <td>0.000000</td>\n",
       "      <td>0.020346</td>\n",
       "    </tr>\n",
       "    <tr>\n",
       "      <th>1994-03-31</th>\n",
       "      <td>0.063147</td>\n",
       "      <td>0.002514</td>\n",
       "      <td>0.000000</td>\n",
       "      <td>0.097231</td>\n",
       "      <td>0.000000</td>\n",
       "      <td>0.057392</td>\n",
       "      <td>0.014877</td>\n",
       "      <td>0.009758</td>\n",
       "      <td>0.036932</td>\n",
       "    </tr>\n",
       "    <tr>\n",
       "      <th>1994-04-29</th>\n",
       "      <td>0.077874</td>\n",
       "      <td>0.000123</td>\n",
       "      <td>0.000000</td>\n",
       "      <td>0.111704</td>\n",
       "      <td>0.000000</td>\n",
       "      <td>0.136262</td>\n",
       "      <td>0.021450</td>\n",
       "      <td>0.034843</td>\n",
       "      <td>0.039016</td>\n",
       "    </tr>\n",
       "    <tr>\n",
       "      <th>1994-05-31</th>\n",
       "      <td>0.072756</td>\n",
       "      <td>0.001351</td>\n",
       "      <td>0.000000</td>\n",
       "      <td>0.078092</td>\n",
       "      <td>0.000000</td>\n",
       "      <td>0.142700</td>\n",
       "      <td>0.023020</td>\n",
       "      <td>0.044811</td>\n",
       "      <td>0.031539</td>\n",
       "    </tr>\n",
       "    <tr>\n",
       "      <th>...</th>\n",
       "      <td>...</td>\n",
       "      <td>...</td>\n",
       "      <td>...</td>\n",
       "      <td>...</td>\n",
       "      <td>...</td>\n",
       "      <td>...</td>\n",
       "      <td>...</td>\n",
       "      <td>...</td>\n",
       "      <td>...</td>\n",
       "    </tr>\n",
       "    <tr>\n",
       "      <th>2012-02-29</th>\n",
       "      <td>0.049735</td>\n",
       "      <td>0.371432</td>\n",
       "      <td>0.628099</td>\n",
       "      <td>0.000000</td>\n",
       "      <td>0.059759</td>\n",
       "      <td>0.042333</td>\n",
       "      <td>0.088816</td>\n",
       "      <td>0.000000</td>\n",
       "      <td>0.000000</td>\n",
       "    </tr>\n",
       "    <tr>\n",
       "      <th>2012-03-30</th>\n",
       "      <td>0.044985</td>\n",
       "      <td>0.372408</td>\n",
       "      <td>0.633135</td>\n",
       "      <td>0.004271</td>\n",
       "      <td>0.087635</td>\n",
       "      <td>0.049048</td>\n",
       "      <td>0.081651</td>\n",
       "      <td>0.000000</td>\n",
       "      <td>0.000000</td>\n",
       "    </tr>\n",
       "    <tr>\n",
       "      <th>2012-04-30</th>\n",
       "      <td>0.049454</td>\n",
       "      <td>0.375005</td>\n",
       "      <td>0.642425</td>\n",
       "      <td>0.006782</td>\n",
       "      <td>0.083713</td>\n",
       "      <td>0.047629</td>\n",
       "      <td>0.083763</td>\n",
       "      <td>0.002381</td>\n",
       "      <td>0.000000</td>\n",
       "    </tr>\n",
       "    <tr>\n",
       "      <th>2012-05-31</th>\n",
       "      <td>0.092489</td>\n",
       "      <td>0.394884</td>\n",
       "      <td>0.610123</td>\n",
       "      <td>0.004859</td>\n",
       "      <td>0.061879</td>\n",
       "      <td>0.083713</td>\n",
       "      <td>0.095908</td>\n",
       "      <td>0.010749</td>\n",
       "      <td>0.000000</td>\n",
       "    </tr>\n",
       "    <tr>\n",
       "      <th>2012-06-29</th>\n",
       "      <td>0.089369</td>\n",
       "      <td>0.389287</td>\n",
       "      <td>0.620739</td>\n",
       "      <td>0.018518</td>\n",
       "      <td>0.095287</td>\n",
       "      <td>0.084955</td>\n",
       "      <td>0.097548</td>\n",
       "      <td>0.007508</td>\n",
       "      <td>0.000000</td>\n",
       "    </tr>\n",
       "  </tbody>\n",
       "</table>\n",
       "<p>222 rows × 9 columns</p>\n",
       "</div>"
      ],
      "text/plain": [
       "            Ln/Sh Eq Hedge Fund USD  Eq Mkt Ntr Hedge Fund USD  \\\n",
       "date                                                             \n",
       "1994-01-31                 0.000000                   0.000000   \n",
       "1994-02-28                 0.025011                   0.000000   \n",
       "1994-03-31                 0.063147                   0.002514   \n",
       "1994-04-29                 0.077874                   0.000123   \n",
       "1994-05-31                 0.072756                   0.001351   \n",
       "...                             ...                        ...   \n",
       "2012-02-29                 0.049735                   0.371432   \n",
       "2012-03-30                 0.044985                   0.372408   \n",
       "2012-04-30                 0.049454                   0.375005   \n",
       "2012-05-31                 0.092489                   0.394884   \n",
       "2012-06-29                 0.089369                   0.389287   \n",
       "\n",
       "            Ded Sh Bs Hedge Fund USD  Global Mac Hedge Fund USD  \\\n",
       "date                                                              \n",
       "1994-01-31                  0.000000                   0.000000   \n",
       "1994-02-28                  0.000000                   0.056811   \n",
       "1994-03-31                  0.000000                   0.097231   \n",
       "1994-04-29                  0.000000                   0.111704   \n",
       "1994-05-31                  0.000000                   0.078092   \n",
       "...                              ...                        ...   \n",
       "2012-02-29                  0.628099                   0.000000   \n",
       "2012-03-30                  0.633135                   0.004271   \n",
       "2012-04-30                  0.642425                   0.006782   \n",
       "2012-05-31                  0.610123                   0.004859   \n",
       "2012-06-29                  0.620739                   0.018518   \n",
       "\n",
       "            Mngd Fut Hedge Fund USD  Emg Mkts Hedge Fund USD  \\\n",
       "date                                                           \n",
       "1994-01-31                 0.000000                 0.000000   \n",
       "1994-02-28                 0.000000                 0.011705   \n",
       "1994-03-31                 0.000000                 0.057392   \n",
       "1994-04-29                 0.000000                 0.136262   \n",
       "1994-05-31                 0.000000                 0.142700   \n",
       "...                             ...                      ...   \n",
       "2012-02-29                 0.059759                 0.042333   \n",
       "2012-03-30                 0.087635                 0.049048   \n",
       "2012-04-30                 0.083713                 0.047629   \n",
       "2012-05-31                 0.061879                 0.083713   \n",
       "2012-06-29                 0.095287                 0.084955   \n",
       "\n",
       "            Evnt Drvn Hedge Fund USD  Cnvrt Arb Hedge Fund USD  \\\n",
       "date                                                             \n",
       "1994-01-31                  0.000000                  0.000000   \n",
       "1994-02-28                  0.001850                  0.000000   \n",
       "1994-03-31                  0.014877                  0.009758   \n",
       "1994-04-29                  0.021450                  0.034843   \n",
       "1994-05-31                  0.023020                  0.044811   \n",
       "...                              ...                       ...   \n",
       "2012-02-29                  0.088816                  0.000000   \n",
       "2012-03-30                  0.081651                  0.000000   \n",
       "2012-04-30                  0.083763                  0.002381   \n",
       "2012-05-31                  0.095908                  0.010749   \n",
       "2012-06-29                  0.097548                  0.007508   \n",
       "\n",
       "            Fx Inc Arb Hedge Fund USD  \n",
       "date                                   \n",
       "1994-01-31                   0.000000  \n",
       "1994-02-28                   0.020346  \n",
       "1994-03-31                   0.036932  \n",
       "1994-04-29                   0.039016  \n",
       "1994-05-31                   0.031539  \n",
       "...                               ...  \n",
       "2012-02-29                   0.000000  \n",
       "2012-03-30                   0.000000  \n",
       "2012-04-30                   0.000000  \n",
       "2012-05-31                   0.000000  \n",
       "2012-06-29                   0.000000  \n",
       "\n",
       "[222 rows x 9 columns]"
      ]
     },
     "execution_count": 28,
     "metadata": {},
     "output_type": "execute_result"
    }
   ],
   "source": [
    "dd"
   ]
  },
  {
   "cell_type": "markdown",
   "metadata": {},
   "source": [
    "strategy parameter"
   ]
  },
  {
   "cell_type": "code",
   "execution_count": 29,
   "metadata": {},
   "outputs": [],
   "source": [
    "# scalar \n",
    "s = 3.0"
   ]
  },
  {
   "cell_type": "code",
   "execution_count": 30,
   "metadata": {},
   "outputs": [],
   "source": [
    "# maxim accepatable drowdown\n",
    "madd = 0.3"
   ]
  },
  {
   "cell_type": "code",
   "execution_count": 31,
   "metadata": {},
   "outputs": [
    {
     "data": {
      "text/plain": [
       "222"
      ]
     },
     "execution_count": 31,
     "metadata": {},
     "output_type": "execute_result"
    }
   ],
   "source": [
    "# number of month\n",
    "T = len(cum_rets)\n",
    "T"
   ]
  },
  {
   "cell_type": "markdown",
   "metadata": {},
   "source": [
    "The risk-managed strategy must be computed iteratively, because the time $t$ investment amount depends on previous returns of the risk-managed strategy. Hence, at each point in time $t$:\n",
    "<ol>\n",
    "    <li>Compute invested amount $ x_t = \\frac{MADD − DD_t}{3\\sigma_t} $ </li>\n",
    "    <li>Set $x_t$ to 0 if it is smaller than 0</li>\n",
    "    <li>Set $x_t$ to 1 if it is greater than 1</li>\n",
    "    <li>Compute realized returns in subsequent period $ r_{t+1}^\\text{RM} = r_{t+1}^e \\times x_t + r_t^f $</li>\n",
    "    <li>Compute cumulative return $ P_{t+1} = P_t \\times (1 + r_{t+1}^\\text{RM}) $ </li>\n",
    "    <li>Compute high water mark $ HWM_t = max_{s \\leq t} P_s $ </li>\n",
    "    <li>Compute maximum drawdown $ DD_t = \\frac{HWM_t - P_t}{HWM_t} $ </li>\n",
    "</ol>"
   ]
  },
  {
   "cell_type": "code",
   "execution_count": 32,
   "metadata": {},
   "outputs": [],
   "source": [
    "# copy the results without risk management"
   ]
  },
  {
   "cell_type": "code",
   "execution_count": 33,
   "metadata": {},
   "outputs": [],
   "source": [
    "dd_rm = dd.copy()\n",
    "hwm_rm = hwm.copy()\n",
    "rets_rm = rets.copy()\n",
    "scalers = dd.copy() * np.nan\n",
    "cum_rets_rm = cum_rets.copy()"
   ]
  },
  {
   "cell_type": "code",
   "execution_count": 71,
   "metadata": {},
   "outputs": [],
   "source": [
    "for t in range(1, T):\n",
    "    # invested amount in period t-1\n",
    "    x = (madd - dd_rm.iloc[t-1,:]) / (rolling_vol.iloc[t-1,:] * s)\n",
    "    x.loc[x > 1] = 1\n",
    "    x.loc[x < 0] = 0\n",
    "    # write x to DataFrame\n",
    "    scalers.iloc[t-1,:] = x\n",
    "    #total returns with a risk management in period t\n",
    "    rets_rm.iloc[t,:] = (xrets.iloc[t,:] * x) + factors.loc[:,\"RF\"].iloc[t]\n",
    "    # cumulative returns with risk management in period t\n",
    "    cum_rets_rm.iloc[t,:] = cum_rets_rm.iloc[t-1,:] * (1 + rets_rm.iloc[t,:])\n",
    "    # high water mark in period t\n",
    "    # use [:t+1, :] !!!!!! as [:t, :] excludes t !!!!\n",
    "    hwm_rm.iloc[t,:] = cum_rets_rm.iloc[:t+1,:].max()\n",
    "    # drawdowns with risk management in period t\n",
    "    dd_rm.iloc[t,:] = (hwm_rm.iloc[t,:] - cum_rets_rm.iloc[t,:]) / hwm_rm.iloc[t,:]"
   ]
  },
  {
   "cell_type": "markdown",
   "metadata": {},
   "source": [
    "Show the drawdowns of emerging markets with and without drawdown control"
   ]
  },
  {
   "cell_type": "code",
   "execution_count": 74,
   "metadata": {},
   "outputs": [
    {
     "data": {
      "image/png": "[encoded data removed]",
      "text/plain": [
       "<Figure size 432x288 with 1 Axes>"
      ]
     },
     "metadata": {
      "needs_background": "light"
     },
     "output_type": "display_data"
    }
   ],
   "source": [
    "fund_name = \"Emg Mkts Hedge Fund USD\"\n",
    "dd.loc[:,fund_name].plot(label=\"without DD control\")\n",
    "dd_rm.loc[:,fund_name].plot(label=\"with DD control\")\n",
    "plt.legend()\n",
    "plt.ylabel(\"Drawdown\")\n",
    "plt.title(fund_name)\n",
    "plt.show()"
   ]
  },
  {
   "cell_type": "markdown",
   "metadata": {},
   "source": [
    "cumulative returns with and without risk management"
   ]
  },
  {
   "cell_type": "code",
   "execution_count": 75,
   "metadata": {},
   "outputs": [
    {
     "data": {
      "image/png": "[encoded data removed]",
      "text/plain": [
       "<Figure size 432x288 with 1 Axes>"
      ]
     },
     "metadata": {
      "needs_background": "light"
     },
     "output_type": "display_data"
    }
   ],
   "source": [
    "fund_name = \"Emg Mkts Hedge Fund USD\"\n",
    "cum_rets.loc[:,fund_name].plot(label=\"without DD control\")\n",
    "cum_rets_rm.loc[:,fund_name].plot(label=\"without DD control\")\n",
    "plt.legend()\n",
    "plt.ylabel(\"Drawdown\")\n",
    "plt.title(fund_name)\n",
    "plt.show()"
   ]
  },
  {
   "cell_type": "markdown",
   "metadata": {},
   "source": [
    "# Performance without drawdown control"
   ]
  },
  {
   "cell_type": "code",
   "execution_count": 76,
   "metadata": {},
   "outputs": [],
   "source": [
    "# compute performance statistics without risk management\n",
    "avg_ret = (rets.mean() * 12).map(\"{:.2%}\".format)\n",
    "max_dd = (dd.max()).map(\"{:.2%}\".format)\n",
    "sr = round(sharpe_ratio(xrets), 2) #!!!xrets"
   ]
  },
  {
   "cell_type": "code",
   "execution_count": 77,
   "metadata": {},
   "outputs": [
    {
     "data": {
      "text/html": [
       "<div>\n",
       "<style scoped>\n",
       "    .dataframe tbody tr th:only-of-type {\n",
       "        vertical-align: middle;\n",
       "    }\n",
       "\n",
       "    .dataframe tbody tr th {\n",
       "        vertical-align: top;\n",
       "    }\n",
       "\n",
       "    .dataframe thead th {\n",
       "        text-align: right;\n",
       "    }\n",
       "</style>\n",
       "<table border=\"1\" class=\"dataframe\">\n",
       "  <thead>\n",
       "    <tr style=\"text-align: right;\">\n",
       "      <th></th>\n",
       "      <th>Ln/Sh Eq Hedge Fund USD</th>\n",
       "      <th>Eq Mkt Ntr Hedge Fund USD</th>\n",
       "      <th>Ded Sh Bs Hedge Fund USD</th>\n",
       "      <th>Global Mac Hedge Fund USD</th>\n",
       "      <th>Mngd Fut Hedge Fund USD</th>\n",
       "      <th>Emg Mkts Hedge Fund USD</th>\n",
       "      <th>Evnt Drvn Hedge Fund USD</th>\n",
       "      <th>Cnvrt Arb Hedge Fund USD</th>\n",
       "      <th>Fx Inc Arb Hedge Fund USD</th>\n",
       "    </tr>\n",
       "  </thead>\n",
       "  <tbody>\n",
       "    <tr>\n",
       "      <th>Avg. return</th>\n",
       "      <td>9.04%</td>\n",
       "      <td>5.29%</td>\n",
       "      <td>-2.66%</td>\n",
       "      <td>11.51%</td>\n",
       "      <td>6.13%</td>\n",
       "      <td>7.99%</td>\n",
       "      <td>8.83%</td>\n",
       "      <td>7.35%</td>\n",
       "      <td>5.24%</td>\n",
       "    </tr>\n",
       "    <tr>\n",
       "      <th>Max. DD</th>\n",
       "      <td>22.14%</td>\n",
       "      <td>45.13%</td>\n",
       "      <td>64.24%</td>\n",
       "      <td>27.00%</td>\n",
       "      <td>17.88%</td>\n",
       "      <td>45.33%</td>\n",
       "      <td>19.30%</td>\n",
       "      <td>33.00%</td>\n",
       "      <td>29.10%</td>\n",
       "    </tr>\n",
       "    <tr>\n",
       "      <th>SR</th>\n",
       "      <td>0.61</td>\n",
       "      <td>0.22</td>\n",
       "      <td>-0.34</td>\n",
       "      <td>0.88</td>\n",
       "      <td>0.26</td>\n",
       "      <td>0.33</td>\n",
       "      <td>0.92</td>\n",
       "      <td>0.62</td>\n",
       "      <td>0.38</td>\n",
       "    </tr>\n",
       "  </tbody>\n",
       "</table>\n",
       "</div>"
      ],
      "text/plain": [
       "            Ln/Sh Eq Hedge Fund USD Eq Mkt Ntr Hedge Fund USD  \\\n",
       "Avg. return                   9.04%                     5.29%   \n",
       "Max. DD                      22.14%                    45.13%   \n",
       "SR                             0.61                      0.22   \n",
       "\n",
       "            Ded Sh Bs Hedge Fund USD Global Mac Hedge Fund USD  \\\n",
       "Avg. return                   -2.66%                    11.51%   \n",
       "Max. DD                       64.24%                    27.00%   \n",
       "SR                             -0.34                      0.88   \n",
       "\n",
       "            Mngd Fut Hedge Fund USD Emg Mkts Hedge Fund USD  \\\n",
       "Avg. return                   6.13%                   7.99%   \n",
       "Max. DD                      17.88%                  45.33%   \n",
       "SR                             0.26                    0.33   \n",
       "\n",
       "            Evnt Drvn Hedge Fund USD Cnvrt Arb Hedge Fund USD  \\\n",
       "Avg. return                    8.83%                    7.35%   \n",
       "Max. DD                       19.30%                   33.00%   \n",
       "SR                              0.92                     0.62   \n",
       "\n",
       "            Fx Inc Arb Hedge Fund USD  \n",
       "Avg. return                     5.24%  \n",
       "Max. DD                        29.10%  \n",
       "SR                               0.38  "
      ]
     },
     "execution_count": 77,
     "metadata": {},
     "output_type": "execute_result"
    }
   ],
   "source": [
    "pd.DataFrame([avg_ret, max_dd, sr], index = [\"Avg. return\", \"Max. DD\", \"SR\"])"
   ]
  },
  {
   "cell_type": "markdown",
   "metadata": {},
   "source": [
    "# Performance without drawdown control"
   ]
  },
  {
   "cell_type": "code",
   "execution_count": 78,
   "metadata": {},
   "outputs": [],
   "source": [
    "# compute excess returns of risk-managed strategies\n",
    "xrets_rm = rets_rm.sub(factors.loc[:, \"RF\"], axis=0)"
   ]
  },
  {
   "cell_type": "code",
   "execution_count": 81,
   "metadata": {},
   "outputs": [],
   "source": [
    "# compute performance statistics of risk-managed strategy\n",
    "avg_ret_rm = (rets_rm.mean() * 12).map(\"{:.2%}\".format)\n",
    "max_dd_rm = (dd_rm.max()).map(\"{:.2%}\".format)\n",
    "sr_rm = round(sharpe_ratio(xrets_rm), 2) #!!!xrets"
   ]
  },
  {
   "cell_type": "code",
   "execution_count": 82,
   "metadata": {},
   "outputs": [
    {
     "data": {
      "text/html": [
       "<div>\n",
       "<style scoped>\n",
       "    .dataframe tbody tr th:only-of-type {\n",
       "        vertical-align: middle;\n",
       "    }\n",
       "\n",
       "    .dataframe tbody tr th {\n",
       "        vertical-align: top;\n",
       "    }\n",
       "\n",
       "    .dataframe thead th {\n",
       "        text-align: right;\n",
       "    }\n",
       "</style>\n",
       "<table border=\"1\" class=\"dataframe\">\n",
       "  <thead>\n",
       "    <tr style=\"text-align: right;\">\n",
       "      <th></th>\n",
       "      <th>Ln/Sh Eq Hedge Fund USD</th>\n",
       "      <th>Eq Mkt Ntr Hedge Fund USD</th>\n",
       "      <th>Ded Sh Bs Hedge Fund USD</th>\n",
       "      <th>Global Mac Hedge Fund USD</th>\n",
       "      <th>Mngd Fut Hedge Fund USD</th>\n",
       "      <th>Emg Mkts Hedge Fund USD</th>\n",
       "      <th>Evnt Drvn Hedge Fund USD</th>\n",
       "      <th>Cnvrt Arb Hedge Fund USD</th>\n",
       "      <th>Fx Inc Arb Hedge Fund USD</th>\n",
       "    </tr>\n",
       "  </thead>\n",
       "  <tbody>\n",
       "    <tr>\n",
       "      <th>Avg. return</th>\n",
       "      <td>8.19%</td>\n",
       "      <td>4.92%</td>\n",
       "      <td>0.46%</td>\n",
       "      <td>10.32%</td>\n",
       "      <td>4.79%</td>\n",
       "      <td>8.10%</td>\n",
       "      <td>7.98%</td>\n",
       "      <td>5.83%</td>\n",
       "      <td>4.45%</td>\n",
       "    </tr>\n",
       "    <tr>\n",
       "      <th>Max. DD</th>\n",
       "      <td>17.21%</td>\n",
       "      <td>42.76%</td>\n",
       "      <td>21.88%</td>\n",
       "      <td>13.83%</td>\n",
       "      <td>13.08%</td>\n",
       "      <td>20.83%</td>\n",
       "      <td>17.62%</td>\n",
       "      <td>24.45%</td>\n",
       "      <td>23.06%</td>\n",
       "    </tr>\n",
       "    <tr>\n",
       "      <th>SR</th>\n",
       "      <td>0.61</td>\n",
       "      <td>0.19</td>\n",
       "      <td>-0.35</td>\n",
       "      <td>0.99</td>\n",
       "      <td>0.19</td>\n",
       "      <td>0.57</td>\n",
       "      <td>0.82</td>\n",
       "      <td>0.51</td>\n",
       "      <td>0.29</td>\n",
       "    </tr>\n",
       "  </tbody>\n",
       "</table>\n",
       "</div>"
      ],
      "text/plain": [
       "            Ln/Sh Eq Hedge Fund USD Eq Mkt Ntr Hedge Fund USD  \\\n",
       "Avg. return                   8.19%                     4.92%   \n",
       "Max. DD                      17.21%                    42.76%   \n",
       "SR                             0.61                      0.19   \n",
       "\n",
       "            Ded Sh Bs Hedge Fund USD Global Mac Hedge Fund USD  \\\n",
       "Avg. return                    0.46%                    10.32%   \n",
       "Max. DD                       21.88%                    13.83%   \n",
       "SR                             -0.35                      0.99   \n",
       "\n",
       "            Mngd Fut Hedge Fund USD Emg Mkts Hedge Fund USD  \\\n",
       "Avg. return                   4.79%                   8.10%   \n",
       "Max. DD                      13.08%                  20.83%   \n",
       "SR                             0.19                    0.57   \n",
       "\n",
       "            Evnt Drvn Hedge Fund USD Cnvrt Arb Hedge Fund USD  \\\n",
       "Avg. return                    7.98%                    5.83%   \n",
       "Max. DD                       17.62%                   24.45%   \n",
       "SR                              0.82                     0.51   \n",
       "\n",
       "            Fx Inc Arb Hedge Fund USD  \n",
       "Avg. return                     4.45%  \n",
       "Max. DD                        23.06%  \n",
       "SR                               0.29  "
      ]
     },
     "execution_count": 82,
     "metadata": {},
     "output_type": "execute_result"
    }
   ],
   "source": [
    "pd.DataFrame([avg_ret_rm, max_dd_rm, sr_rm], index=[\"Avg. return\", \"Max. DD\", \"SR\"])"
   ]
  }
 ],
 "metadata": {
  "kernelspec": {
   "display_name": "Python 3",
   "language": "python",
   "name": "python3"
  },
  "language_info": {
   "codemirror_mode": {
    "name": "ipython",
    "version": 3
   },
   "file_extension": ".py",
   "mimetype": "text/x-python",
   "name": "python",
   "nbconvert_exporter": "python",
   "pygments_lexer": "ipython3",
   "version": "3.8.3"
  }
 },
 "nbformat": 4,
 "nbformat_minor": 4
}
