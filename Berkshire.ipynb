{
 "cells": [
  {
   "cell_type": "code",
   "execution_count": 1,
   "metadata": {},
   "outputs": [],
   "source": [
    "import numpy as np\n",
    "import pandas as pd\n",
    "import statsmodels.api as sm\n",
    "import matplotlib.pyplot as plt\n",
    "from stargazer.stargazer import Stargazer"
   ]
  },
  {
   "cell_type": "markdown",
   "metadata": {},
   "source": [
    "# Import data"
   ]
  },
  {
   "cell_type": "code",
   "execution_count": 2,
   "metadata": {},
   "outputs": [],
   "source": [
    "file = 'PS_7_Buffetts_exercise.xlsx'"
   ]
  },
  {
   "cell_type": "code",
   "execution_count": 3,
   "metadata": {},
   "outputs": [
    {
     "data": {
      "text/html": [
       "<div>\n",
       "<style scoped>\n",
       "    .dataframe tbody tr th:only-of-type {\n",
       "        vertical-align: middle;\n",
       "    }\n",
       "\n",
       "    .dataframe tbody tr th {\n",
       "        vertical-align: top;\n",
       "    }\n",
       "\n",
       "    .dataframe thead th {\n",
       "        text-align: right;\n",
       "    }\n",
       "</style>\n",
       "<table border=\"1\" class=\"dataframe\">\n",
       "  <thead>\n",
       "    <tr style=\"text-align: right;\">\n",
       "      <th></th>\n",
       "      <th>RF</th>\n",
       "      <th>Mkt-RF</th>\n",
       "      <th>SMB</th>\n",
       "      <th>HML</th>\n",
       "      <th>QMJ</th>\n",
       "      <th>BAB</th>\n",
       "      <th>UMD</th>\n",
       "    </tr>\n",
       "    <tr>\n",
       "      <th>date</th>\n",
       "      <th></th>\n",
       "      <th></th>\n",
       "      <th></th>\n",
       "      <th></th>\n",
       "      <th></th>\n",
       "      <th></th>\n",
       "      <th></th>\n",
       "    </tr>\n",
       "  </thead>\n",
       "  <tbody>\n",
       "    <tr>\n",
       "      <th>1976-10-29</th>\n",
       "      <td>0.0041</td>\n",
       "      <td>-0.0242</td>\n",
       "      <td>0.0025</td>\n",
       "      <td>-0.0013</td>\n",
       "      <td>0.000291</td>\n",
       "      <td>0.009824</td>\n",
       "      <td>-0.0048</td>\n",
       "    </tr>\n",
       "    <tr>\n",
       "      <th>1976-11-30</th>\n",
       "      <td>0.0040</td>\n",
       "      <td>0.0036</td>\n",
       "      <td>0.0232</td>\n",
       "      <td>0.0151</td>\n",
       "      <td>-0.020044</td>\n",
       "      <td>0.003814</td>\n",
       "      <td>0.0290</td>\n",
       "    </tr>\n",
       "    <tr>\n",
       "      <th>1976-12-31</th>\n",
       "      <td>0.0040</td>\n",
       "      <td>0.0565</td>\n",
       "      <td>0.0301</td>\n",
       "      <td>0.0222</td>\n",
       "      <td>-0.006284</td>\n",
       "      <td>0.032671</td>\n",
       "      <td>0.0077</td>\n",
       "    </tr>\n",
       "    <tr>\n",
       "      <th>1977-01-31</th>\n",
       "      <td>0.0036</td>\n",
       "      <td>-0.0405</td>\n",
       "      <td>0.0478</td>\n",
       "      <td>0.0426</td>\n",
       "      <td>-0.020399</td>\n",
       "      <td>0.038325</td>\n",
       "      <td>0.0398</td>\n",
       "    </tr>\n",
       "    <tr>\n",
       "      <th>1977-02-28</th>\n",
       "      <td>0.0035</td>\n",
       "      <td>-0.0195</td>\n",
       "      <td>0.0109</td>\n",
       "      <td>0.0050</td>\n",
       "      <td>0.016226</td>\n",
       "      <td>0.028703</td>\n",
       "      <td>0.0038</td>\n",
       "    </tr>\n",
       "  </tbody>\n",
       "</table>\n",
       "</div>"
      ],
      "text/plain": [
       "                RF  Mkt-RF     SMB     HML       QMJ       BAB     UMD\n",
       "date                                                                  \n",
       "1976-10-29  0.0041 -0.0242  0.0025 -0.0013  0.000291  0.009824 -0.0048\n",
       "1976-11-30  0.0040  0.0036  0.0232  0.0151 -0.020044  0.003814  0.0290\n",
       "1976-12-31  0.0040  0.0565  0.0301  0.0222 -0.006284  0.032671  0.0077\n",
       "1977-01-31  0.0036 -0.0405  0.0478  0.0426 -0.020399  0.038325  0.0398\n",
       "1977-02-28  0.0035 -0.0195  0.0109  0.0050  0.016226  0.028703  0.0038"
      ]
     },
     "execution_count": 3,
     "metadata": {},
     "output_type": "execute_result"
    }
   ],
   "source": [
    "# import factors\n",
    "factors = pd.read_excel(file, sheet_name='factors', parse_dates=[\"date\"], index_col='date')\n",
    "factors.head()"
   ]
  },
  {
   "cell_type": "code",
   "execution_count": 4,
   "metadata": {},
   "outputs": [
    {
     "data": {
      "text/html": [
       "<div>\n",
       "<style scoped>\n",
       "    .dataframe tbody tr th:only-of-type {\n",
       "        vertical-align: middle;\n",
       "    }\n",
       "\n",
       "    .dataframe tbody tr th {\n",
       "        vertical-align: top;\n",
       "    }\n",
       "\n",
       "    .dataframe thead th {\n",
       "        text-align: right;\n",
       "    }\n",
       "</style>\n",
       "<table border=\"1\" class=\"dataframe\">\n",
       "  <thead>\n",
       "    <tr style=\"text-align: right;\">\n",
       "      <th></th>\n",
       "      <th>Berkshire Hathaway, total return</th>\n",
       "      <th>Public stocks from 13F, total return</th>\n",
       "      <th>Heinz, total return</th>\n",
       "      <th>Kraft, total return</th>\n",
       "    </tr>\n",
       "    <tr>\n",
       "      <th>date</th>\n",
       "      <th></th>\n",
       "      <th></th>\n",
       "      <th></th>\n",
       "      <th></th>\n",
       "    </tr>\n",
       "  </thead>\n",
       "  <tbody>\n",
       "    <tr>\n",
       "      <th>1976-10-29</th>\n",
       "      <td>NaN</td>\n",
       "      <td>NaN</td>\n",
       "      <td>NaN</td>\n",
       "      <td>NaN</td>\n",
       "    </tr>\n",
       "    <tr>\n",
       "      <th>1976-11-30</th>\n",
       "      <td>0.154412</td>\n",
       "      <td>NaN</td>\n",
       "      <td>0.044643</td>\n",
       "      <td>NaN</td>\n",
       "    </tr>\n",
       "    <tr>\n",
       "      <th>1976-12-31</th>\n",
       "      <td>0.146497</td>\n",
       "      <td>NaN</td>\n",
       "      <td>0.158803</td>\n",
       "      <td>NaN</td>\n",
       "    </tr>\n",
       "    <tr>\n",
       "      <th>1977-01-31</th>\n",
       "      <td>0.000000</td>\n",
       "      <td>NaN</td>\n",
       "      <td>-0.052045</td>\n",
       "      <td>NaN</td>\n",
       "    </tr>\n",
       "    <tr>\n",
       "      <th>1977-02-28</th>\n",
       "      <td>0.000000</td>\n",
       "      <td>NaN</td>\n",
       "      <td>0.027451</td>\n",
       "      <td>NaN</td>\n",
       "    </tr>\n",
       "  </tbody>\n",
       "</table>\n",
       "</div>"
      ],
      "text/plain": [
       "            Berkshire Hathaway, total return  \\\n",
       "date                                           \n",
       "1976-10-29                               NaN   \n",
       "1976-11-30                          0.154412   \n",
       "1976-12-31                          0.146497   \n",
       "1977-01-31                          0.000000   \n",
       "1977-02-28                          0.000000   \n",
       "\n",
       "            Public stocks from 13F, total return  Heinz, total return  \\\n",
       "date                                                                    \n",
       "1976-10-29                                   NaN                  NaN   \n",
       "1976-11-30                                   NaN             0.044643   \n",
       "1976-12-31                                   NaN             0.158803   \n",
       "1977-01-31                                   NaN            -0.052045   \n",
       "1977-02-28                                   NaN             0.027451   \n",
       "\n",
       "            Kraft, total return  \n",
       "date                             \n",
       "1976-10-29                  NaN  \n",
       "1976-11-30                  NaN  \n",
       "1976-12-31                  NaN  \n",
       "1977-01-31                  NaN  \n",
       "1977-02-28                  NaN  "
      ]
     },
     "execution_count": 4,
     "metadata": {},
     "output_type": "execute_result"
    }
   ],
   "source": [
    "# import returns\n",
    "data = pd.read_excel(file, sheet_name='buffet_data', parse_dates=[\"date\"], index_col='date')\n",
    "data.head()"
   ]
  },
  {
   "cell_type": "code",
   "execution_count": 5,
   "metadata": {},
   "outputs": [
    {
     "data": {
      "image/png": "[encoded data removed]",
      "text/plain": [
       "<Figure size 432x288 with 1 Axes>"
      ]
     },
     "metadata": {
      "needs_background": "light"
     },
     "output_type": "display_data"
    }
   ],
   "source": [
    "# plot the cum return of Berkshire\n",
    "(1 + data.loc[:, \"Berkshire Hathaway, total return\"].dropna()).cumprod().plot();"
   ]
  },
  {
   "cell_type": "code",
   "execution_count": 6,
   "metadata": {},
   "outputs": [],
   "source": [
    "def analyze_performance(monthly_returns):\n",
    "    # monthly performance \n",
    "    avg = monthly_returns.mean()\n",
    "    sd = monthly_returns.std()\n",
    "    sr = avg / sd\n",
    "    #annualized performance\n",
    "    avg_ann = avg * 12\n",
    "    sd_ann = sd * np.sqrt(12)\n",
    "    sr_ann = avg_ann / sd_ann\n",
    "    # format in percent\n",
    "    avg, avg_ann = str(round(avg * 100, 2)) + \"%\", str(round(avg_ann * 100, 2)) + \"%\"\n",
    "    sd, sd_ann = str(round(sd * 100, 2)) + \"%\", str(round(sd_ann * 100, 2)) + \"%\"\n",
    "    # create output\n",
    "    stats = pd.DataFrame([[avg, sd, round(sr, 2)],\n",
    "                          [avg_ann, sd_ann, round(sr_ann, 2)]],\n",
    "                        columns=[\"Mean\", \"Std\", \"SR\"],\n",
    "                        index=[\"Monthly\", \"Annual\"])  \n",
    "    \n",
    "    return stats"
   ]
  },
  {
   "cell_type": "code",
   "execution_count": 7,
   "metadata": {},
   "outputs": [],
   "source": [
    "xrets_berk = data.loc[:, \"Berkshire Hathaway, total return\"].dropna() - factors.loc[:, \"RF\"]"
   ]
  },
  {
   "cell_type": "code",
   "execution_count": 8,
   "metadata": {},
   "outputs": [
    {
     "data": {
      "text/html": [
       "<div>\n",
       "<style scoped>\n",
       "    .dataframe tbody tr th:only-of-type {\n",
       "        vertical-align: middle;\n",
       "    }\n",
       "\n",
       "    .dataframe tbody tr th {\n",
       "        vertical-align: top;\n",
       "    }\n",
       "\n",
       "    .dataframe thead th {\n",
       "        text-align: right;\n",
       "    }\n",
       "</style>\n",
       "<table border=\"1\" class=\"dataframe\">\n",
       "  <thead>\n",
       "    <tr style=\"text-align: right;\">\n",
       "      <th></th>\n",
       "      <th>Mean</th>\n",
       "      <th>Std</th>\n",
       "      <th>SR</th>\n",
       "    </tr>\n",
       "  </thead>\n",
       "  <tbody>\n",
       "    <tr>\n",
       "      <th>Monthly</th>\n",
       "      <td>1.55%</td>\n",
       "      <td>6.8%</td>\n",
       "      <td>0.23</td>\n",
       "    </tr>\n",
       "    <tr>\n",
       "      <th>Annual</th>\n",
       "      <td>18.62%</td>\n",
       "      <td>23.56%</td>\n",
       "      <td>0.79</td>\n",
       "    </tr>\n",
       "  </tbody>\n",
       "</table>\n",
       "</div>"
      ],
      "text/plain": [
       "           Mean     Std    SR\n",
       "Monthly   1.55%    6.8%  0.23\n",
       "Annual   18.62%  23.56%  0.79"
      ]
     },
     "execution_count": 8,
     "metadata": {},
     "output_type": "execute_result"
    }
   ],
   "source": [
    "analyze_performance(xrets_berk)"
   ]
  },
  {
   "cell_type": "code",
   "execution_count": 9,
   "metadata": {},
   "outputs": [
    {
     "name": "stdout",
     "output_type": "stream",
     "text": [
      "Beta: 0.69\n"
     ]
    }
   ],
   "source": [
    "#beta\n",
    "y = xrets_berk.dropna()\n",
    "x = factors.loc[:, \"Mkt-RF\"].reindex(y.index)\n",
    "regression = sm.OLS(y , sm.add_constant(x)).fit()\n",
    "alpha = regression.params.loc[\"const\"] * 12\n",
    "beta = regression.params.loc[\"Mkt-RF\"]\n",
    "ssr = regression.ssr\n",
    "print(\"Beta:\", round(beta, 2))"
   ]
  },
  {
   "cell_type": "code",
   "execution_count": 10,
   "metadata": {},
   "outputs": [
    {
     "data": {
      "text/plain": [
       "date\n",
       "1976-11-30    0.150412\n",
       "1976-12-31    0.142497\n",
       "1977-01-31   -0.003600\n",
       "1977-02-28   -0.003500\n",
       "1977-03-31    0.073978\n",
       "                ...   \n",
       "2016-11-30    0.094643\n",
       "2016-12-30    0.032429\n",
       "2017-01-31    0.006956\n",
       "2017-02-28    0.044359\n",
       "2017-03-31   -0.028209\n",
       "Length: 485, dtype: float64"
      ]
     },
     "execution_count": 10,
     "metadata": {},
     "output_type": "execute_result"
    }
   ],
   "source": [
    "y"
   ]
  },
  {
   "cell_type": "code",
   "execution_count": 11,
   "metadata": {},
   "outputs": [
    {
     "data": {
      "text/plain": [
       "0.64"
      ]
     },
     "execution_count": 11,
     "metadata": {},
     "output_type": "execute_result"
    }
   ],
   "source": [
    "# information ratio\n",
    "ir = alpha / np.sqrt(ssr / len(xrets_berk.dropna()) * 12)\n",
    "round(ir, 2) "
   ]
  },
  {
   "cell_type": "markdown",
   "metadata": {},
   "source": [
    "# Regression"
   ]
  },
  {
   "cell_type": "code",
   "execution_count": 12,
   "metadata": {},
   "outputs": [],
   "source": [
    "def time_series_regressions(y, x):\n",
    "    \n",
    "    # 1-factor market model\n",
    "    x_1 = x.loc[:, \"Mkt-RF\"]\n",
    "    model_1 = sm.OLS(y, sm.add_constant(x_1), missing=\"drop\").fit()\n",
    "    \n",
    "    # Fama-French 3-factor model\n",
    "    x_2 = x.loc[:, [\"Mkt-RF\", \"SMB\", \"HML\"]]\n",
    "    model_2 = sm.OLS(y, sm.add_constant(x_2), missing=\"drop\").fit()\n",
    "    \n",
    "    # FF 3-factor model augmented with BAB and QMJ\n",
    "    x_3 = x.loc[:, [\"Mkt-RF\", \"SMB\", \"HML\", \"BAB\", \"QMJ\"]]\n",
    "    model_3 = sm.OLS(y, sm.add_constant(x_3), missing=\"drop\").fit()\n",
    "    \n",
    "    return [model_1, model_2, model_3]"
   ]
  },
  {
   "cell_type": "code",
   "execution_count": 13,
   "metadata": {},
   "outputs": [],
   "source": [
    "# compute excess returns\n",
    "BRK = data.loc[:, \"Berkshire Hathaway, total return\"] - factors.loc[:, \"RF\"]\n",
    "BRK = BRK.rename(\"Berkshire Hathaway, excess return\")"
   ]
  },
  {
   "cell_type": "code",
   "execution_count": 14,
   "metadata": {},
   "outputs": [],
   "source": [
    "# run the regressions\n",
    "models = time_series_regressions(BRK, factors)\n",
    "\n",
    "# compute annaulized alpha of each model using list comprehension\n",
    "alphas = [round(model.params.loc[\"const\"] * 100 * 12, 2) for model in models]"
   ]
  },
  {
   "cell_type": "code",
   "execution_count": 15,
   "metadata": {},
   "outputs": [
    {
     "data": {
      "text/html": [
       "<table style=\"text-align:center\"><tr><td colspan=\"4\" style=\"border-bottom: 1px solid black\"></td></tr><tr><td style=\"text-align:left\"></td><td colspan=\"3\"><em>Dependent variable:Berkshire Hathaway, excess return</em></td></tr><tr><td style=\"text-align:left\"></td><tr><td style=\"text-align:left\"></td><td>(1)</td><td>(2)</td><td>(3)</td></tr><tr><td colspan=\"4\" style=\"border-bottom: 1px solid black\"></td></tr><tr><td style=\"text-align:left\">const</td><td>0.011<sup>***</sup></td><td>0.010<sup>***</sup></td><td>0.004<sup></sup></td></tr><tr><td style=\"text-align:left\"></td><td>(0.003)</td><td>(0.003)</td><td>(0.003)</td></tr><tr><td style=\"text-align:left\">Mkt-RF</td><td>0.688<sup>***</sup></td><td>0.818<sup>***</sup></td><td>0.957<sup>***</sup></td></tr><tr><td style=\"text-align:left\"></td><td>(0.063)</td><td>(0.064)</td><td>(0.075)</td></tr><tr><td style=\"text-align:left\">SMB</td><td></td><td>-0.285<sup>***</sup></td><td>-0.137<sup></sup></td></tr><tr><td style=\"text-align:left\"></td><td></td><td>(0.094)</td><td>(0.106)</td></tr><tr><td style=\"text-align:left\">HML</td><td></td><td>0.451<sup>***</sup></td><td>0.422<sup>***</sup></td></tr><tr><td style=\"text-align:left\"></td><td></td><td>(0.099)</td><td>(0.108)</td></tr><tr><td style=\"text-align:left\">BAB</td><td></td><td></td><td>0.249<sup>***</sup></td></tr><tr><td style=\"text-align:left\"></td><td></td><td></td><td>(0.085)</td></tr><tr><td style=\"text-align:left\">QMJ</td><td></td><td></td><td>0.444<sup>***</sup></td></tr><tr><td style=\"text-align:left\"></td><td></td><td></td><td>(0.149)</td></tr><tr><td style=\"text-align: left\">Annualized Alpha (in %)</td><td>13.42</td><td>11.61</td><td>5.2</td></tr><td colspan=\"4\" style=\"border-bottom: 1px solid black\"></td></tr><tr><td style=\"text-align: left\">Observations</td><td>485</td><td>485</td><td>485</td></tr><tr><td style=\"text-align: left\">R<sup>2</sup></td><td>0.200</td><td>0.258</td><td>0.294</td></tr><tr><td style=\"text-align: left\">Adjusted R<sup>2</sup></td><td>0.198</td><td>0.253</td><td>0.286</td></tr><tr><td style=\"text-align: left\">Residual Std. Error</td><td>0.061 (df=483)</td><td>0.059 (df=481)</td><td>0.057 (df=479)</td></tr><tr><td style=\"text-align: left\">F Statistic</td><td>120.568<sup>***</sup> (df=1; 483)</td><td>55.625<sup>***</sup> (df=3; 481)</td><td>39.803<sup>***</sup> (df=5; 479)</td></tr><tr><td colspan=\"4\" style=\"border-bottom: 1px solid black\"></td></tr><tr><td style=\"text-align: left\">Note:</td>\n",
       " <td colspan=\"3\" style=\"text-align: right\">\n",
       "  <sup>*</sup>p&lt;0.1;\n",
       "  <sup>**</sup>p&lt;0.05;\n",
       "  <sup>***</sup>p&lt;0.01\n",
       " </td></tr></table>"
      ],
      "text/plain": [
       "<stargazer.stargazer.Stargazer at 0x7fbc1dac2460>"
      ]
     },
     "execution_count": 15,
     "metadata": {},
     "output_type": "execute_result"
    }
   ],
   "source": [
    "# present regression results\n",
    "stargazer = Stargazer(models)\n",
    "stargazer.add_line(\"Annualized Alpha (in %)\", alphas)\n",
    "stargazer.covariate_order([\"const\", \"Mkt-RF\", \"SMB\", \"HML\", \"BAB\", \"QMJ\"])\n",
    "stargazer"
   ]
  },
  {
   "cell_type": "markdown",
   "metadata": {},
   "source": [
    "# Berkshire performance II"
   ]
  },
  {
   "cell_type": "code",
   "execution_count": 16,
   "metadata": {},
   "outputs": [],
   "source": [
    "# compute excess returns\n",
    "PS = data.loc[:, \"Public stocks from 13F, total return\"] - factors.loc[:, \"RF\"]\n",
    "PS = PS.rename(\"Public stocks from 13F, excess return\")"
   ]
  },
  {
   "cell_type": "code",
   "execution_count": 17,
   "metadata": {},
   "outputs": [],
   "source": [
    "# run the regressions\n",
    "models = time_series_regressions(PS, factors)\n",
    "\n",
    "# compute annaulized alpha of each model using list comprehension\n",
    "alphas = [round(model.params.loc[\"const\"] * 100 * 12, 2) for model in models]"
   ]
  },
  {
   "cell_type": "code",
   "execution_count": 18,
   "metadata": {},
   "outputs": [
    {
     "data": {
      "text/html": [
       "<table style=\"text-align:center\"><tr><td colspan=\"4\" style=\"border-bottom: 1px solid black\"></td></tr><tr><td style=\"text-align:left\"></td><td colspan=\"3\"><em>Dependent variable:Public stocks from 13F, excess return</em></td></tr><tr><td style=\"text-align:left\"></td><tr><td style=\"text-align:left\"></td><td>(1)</td><td>(2)</td><td>(3)</td></tr><tr><td colspan=\"4\" style=\"border-bottom: 1px solid black\"></td></tr><tr><td style=\"text-align:left\">const</td><td>0.005<sup>***</sup></td><td>0.004<sup>**</sup></td><td>0.000<sup></sup></td></tr><tr><td style=\"text-align:left\"></td><td>(0.002)</td><td>(0.001)</td><td>(0.002)</td></tr><tr><td style=\"text-align:left\">Mkt-RF</td><td>0.771<sup>***</sup></td><td>0.854<sup>***</sup></td><td>0.960<sup>***</sup></td></tr><tr><td style=\"text-align:left\"></td><td>(0.035)</td><td>(0.035)</td><td>(0.041)</td></tr><tr><td style=\"text-align:left\">SMB</td><td></td><td>-0.190<sup>***</sup></td><td>-0.073<sup></sup></td></tr><tr><td style=\"text-align:left\"></td><td></td><td>(0.051)</td><td>(0.057)</td></tr><tr><td style=\"text-align:left\">HML</td><td></td><td>0.288<sup>***</sup></td><td>0.297<sup>***</sup></td></tr><tr><td style=\"text-align:left\"></td><td></td><td>(0.053)</td><td>(0.057)</td></tr><tr><td style=\"text-align:left\">BAB</td><td></td><td></td><td>0.114<sup>**</sup></td></tr><tr><td style=\"text-align:left\"></td><td></td><td></td><td>(0.044)</td></tr><tr><td style=\"text-align:left\">QMJ</td><td></td><td></td><td>0.325<sup>***</sup></td></tr><tr><td style=\"text-align:left\"></td><td></td><td></td><td>(0.079)</td></tr><tr><td style=\"text-align: left\">Annualized Alpha (in %)</td><td>5.76</td><td>4.34</td><td>0.11</td></tr><td colspan=\"4\" style=\"border-bottom: 1px solid black\"></td></tr><tr><td style=\"text-align: left\">Observations</td><td>444</td><td>444</td><td>444</td></tr><tr><td style=\"text-align: left\">R<sup>2</sup></td><td>0.524</td><td>0.578</td><td>0.606</td></tr><tr><td style=\"text-align: left\">Adjusted R<sup>2</sup></td><td>0.523</td><td>0.575</td><td>0.602</td></tr><tr><td style=\"text-align: left\">Residual Std. Error</td><td>0.032 (df=442)</td><td>0.031 (df=440)</td><td>0.030 (df=438)</td></tr><tr><td style=\"text-align: left\">F Statistic</td><td>486.563<sup>***</sup> (df=1; 442)</td><td>201.102<sup>***</sup> (df=3; 440)</td><td>134.881<sup>***</sup> (df=5; 438)</td></tr><tr><td colspan=\"4\" style=\"border-bottom: 1px solid black\"></td></tr><tr><td style=\"text-align: left\">Note:</td>\n",
       " <td colspan=\"3\" style=\"text-align: right\">\n",
       "  <sup>*</sup>p&lt;0.1;\n",
       "  <sup>**</sup>p&lt;0.05;\n",
       "  <sup>***</sup>p&lt;0.01\n",
       " </td></tr></table>"
      ],
      "text/plain": [
       "<stargazer.stargazer.Stargazer at 0x7fbc1dfe49d0>"
      ]
     },
     "execution_count": 18,
     "metadata": {},
     "output_type": "execute_result"
    }
   ],
   "source": [
    "# present regression results\n",
    "stargazer = Stargazer(models)\n",
    "stargazer.add_line(\"Annualized Alpha (in %)\", alphas)\n",
    "stargazer.covariate_order([\"const\", \"Mkt-RF\", \"SMB\", \"HML\", \"BAB\", \"QMJ\"])\n",
    "stargazer"
   ]
  },
  {
   "cell_type": "markdown",
   "metadata": {},
   "source": [
    "# Berkshire performance III"
   ]
  },
  {
   "cell_type": "code",
   "execution_count": 19,
   "metadata": {},
   "outputs": [],
   "source": [
    "# put both time-series of excess returns into a single DataFrame\n",
    "xrets = pd.concat([BRK, PS], axis=1)"
   ]
  },
  {
   "cell_type": "code",
   "execution_count": 20,
   "metadata": {},
   "outputs": [
    {
     "data": {
      "text/html": [
       "<div>\n",
       "<style scoped>\n",
       "    .dataframe tbody tr th:only-of-type {\n",
       "        vertical-align: middle;\n",
       "    }\n",
       "\n",
       "    .dataframe tbody tr th {\n",
       "        vertical-align: top;\n",
       "    }\n",
       "\n",
       "    .dataframe thead th {\n",
       "        text-align: right;\n",
       "    }\n",
       "</style>\n",
       "<table border=\"1\" class=\"dataframe\">\n",
       "  <thead>\n",
       "    <tr style=\"text-align: right;\">\n",
       "      <th></th>\n",
       "      <th>Berkshire Hathaway, excess return</th>\n",
       "      <th>Public stocks from 13F, excess return</th>\n",
       "    </tr>\n",
       "    <tr>\n",
       "      <th>date</th>\n",
       "      <th></th>\n",
       "      <th></th>\n",
       "    </tr>\n",
       "  </thead>\n",
       "  <tbody>\n",
       "    <tr>\n",
       "      <th>1980-04-30</th>\n",
       "      <td>0.061474</td>\n",
       "      <td>0.055592</td>\n",
       "    </tr>\n",
       "    <tr>\n",
       "      <th>1980-05-30</th>\n",
       "      <td>0.129831</td>\n",
       "      <td>0.084365</td>\n",
       "    </tr>\n",
       "    <tr>\n",
       "      <th>1980-06-30</th>\n",
       "      <td>-0.066706</td>\n",
       "      <td>0.032121</td>\n",
       "    </tr>\n",
       "    <tr>\n",
       "      <th>1980-07-31</th>\n",
       "      <td>0.123732</td>\n",
       "      <td>0.072282</td>\n",
       "    </tr>\n",
       "    <tr>\n",
       "      <th>1980-08-29</th>\n",
       "      <td>0.093600</td>\n",
       "      <td>0.034991</td>\n",
       "    </tr>\n",
       "    <tr>\n",
       "      <th>...</th>\n",
       "      <td>...</td>\n",
       "      <td>...</td>\n",
       "    </tr>\n",
       "    <tr>\n",
       "      <th>2016-11-30</th>\n",
       "      <td>0.094643</td>\n",
       "      <td>0.035123</td>\n",
       "    </tr>\n",
       "    <tr>\n",
       "      <th>2016-12-30</th>\n",
       "      <td>0.032429</td>\n",
       "      <td>0.036866</td>\n",
       "    </tr>\n",
       "    <tr>\n",
       "      <th>2017-01-31</th>\n",
       "      <td>0.006956</td>\n",
       "      <td>0.020625</td>\n",
       "    </tr>\n",
       "    <tr>\n",
       "      <th>2017-02-28</th>\n",
       "      <td>0.044359</td>\n",
       "      <td>0.037217</td>\n",
       "    </tr>\n",
       "    <tr>\n",
       "      <th>2017-03-31</th>\n",
       "      <td>-0.028209</td>\n",
       "      <td>-0.014414</td>\n",
       "    </tr>\n",
       "  </tbody>\n",
       "</table>\n",
       "<p>444 rows × 2 columns</p>\n",
       "</div>"
      ],
      "text/plain": [
       "            Berkshire Hathaway, excess return  \\\n",
       "date                                            \n",
       "1980-04-30                           0.061474   \n",
       "1980-05-30                           0.129831   \n",
       "1980-06-30                          -0.066706   \n",
       "1980-07-31                           0.123732   \n",
       "1980-08-29                           0.093600   \n",
       "...                                       ...   \n",
       "2016-11-30                           0.094643   \n",
       "2016-12-30                           0.032429   \n",
       "2017-01-31                           0.006956   \n",
       "2017-02-28                           0.044359   \n",
       "2017-03-31                          -0.028209   \n",
       "\n",
       "            Public stocks from 13F, excess return  \n",
       "date                                               \n",
       "1980-04-30                               0.055592  \n",
       "1980-05-30                               0.084365  \n",
       "1980-06-30                               0.032121  \n",
       "1980-07-31                               0.072282  \n",
       "1980-08-29                               0.034991  \n",
       "...                                           ...  \n",
       "2016-11-30                               0.035123  \n",
       "2016-12-30                               0.036866  \n",
       "2017-01-31                               0.020625  \n",
       "2017-02-28                               0.037217  \n",
       "2017-03-31                              -0.014414  \n",
       "\n",
       "[444 rows x 2 columns]"
      ]
     },
     "execution_count": 20,
     "metadata": {},
     "output_type": "execute_result"
    }
   ],
   "source": [
    "# remove all rows which contain missing values\n",
    "xrets = xrets.dropna()\n",
    "xrets"
   ]
  },
  {
   "cell_type": "code",
   "execution_count": 25,
   "metadata": {},
   "outputs": [
    {
     "data": {
      "text/plain": [
       "Berkshire Hathaway, excess return        16.74\n",
       "Public stocks from 13F, excess return    12.03\n",
       "dtype: float64"
      ]
     },
     "execution_count": 25,
     "metadata": {},
     "output_type": "execute_result"
    }
   ],
   "source": [
    "avg = xrets.mean() * 12\n",
    "round(avg * 100, 2)"
   ]
  },
  {
   "cell_type": "code",
   "execution_count": 28,
   "metadata": {},
   "outputs": [
    {
     "data": {
      "text/plain": [
       "Berkshire Hathaway, excess return        22.30\n",
       "Public stocks from 13F, excess return    16.25\n",
       "dtype: float64"
      ]
     },
     "execution_count": 28,
     "metadata": {},
     "output_type": "execute_result"
    }
   ],
   "source": [
    "sd = xrets.std() * np.sqrt(12)\n",
    "round(sd * 100, 2)"
   ]
  },
  {
   "cell_type": "code",
   "execution_count": 29,
   "metadata": {},
   "outputs": [
    {
     "data": {
      "text/plain": [
       "Berkshire Hathaway, excess return        0.75\n",
       "Public stocks from 13F, excess return    0.74\n",
       "dtype: float64"
      ]
     },
     "execution_count": 29,
     "metadata": {},
     "output_type": "execute_result"
    }
   ],
   "source": [
    "sr = avg / sd\n",
    "round(sr, 2)"
   ]
  }
 ],
 "metadata": {
  "kernelspec": {
   "display_name": "Python 3",
   "language": "python",
   "name": "python3"
  },
  "language_info": {
   "codemirror_mode": {
    "name": "ipython",
    "version": 3
   },
   "file_extension": ".py",
   "mimetype": "text/x-python",
   "name": "python",
   "nbconvert_exporter": "python",
   "pygments_lexer": "ipython3",
   "version": "3.8.3"
  }
 },
 "nbformat": 4,
 "nbformat_minor": 4
}
