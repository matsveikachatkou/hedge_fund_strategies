{
 "cells": [
  {
   "cell_type": "markdown",
   "metadata": {},
   "source": [
    "<h1><center>Hedge Funds and Alternative Investments</center></h1>\n",
    "<h1><center>— Problem Set 10 —</center></h1>"
   ]
  },
  {
   "cell_type": "markdown",
   "metadata": {},
   "source": [
    "_In problems 10.1-10.7, you backtest the currency carry trade using the data provided in the Excel\n",
    "spreadsheet for this problem set._"
   ]
  },
  {
   "cell_type": "markdown",
   "metadata": {},
   "source": [
    "## 10.1 Investment currencies and funding currencies*"
   ]
  },
  {
   "cell_type": "markdown",
   "metadata": {},
   "source": [
    "For each month of the sample, rank the countries based on their interest rate. Compute\n",
    "each country’s average rank (1=lowest interest rate, etc.). <br>\n",
    "\n",
    "&nbsp; &nbsp; &nbsp; a. Which country has the lowest average rank, i.e., most often “funding currency” with the lowest interest rate? <br>\n",
    "&nbsp; &nbsp; &nbsp; b. Which country is the second to most often funding currency (second lowest average rank)? <br>\n",
    "&nbsp; &nbsp; &nbsp; c. Which country is most often “investment currency,” i.e. highest average rank? <br>\n",
    "&nbsp; &nbsp; &nbsp; d. Which country is second to most often investment currency? <br>\n",
    "&nbsp; &nbsp; &nbsp; e. Plot here the rank of the US over time. <br>"
   ]
  },
  {
   "cell_type": "code",
   "execution_count": 1,
   "metadata": {},
   "outputs": [],
   "source": [
    "import numpy as np\n",
    "import pandas as pd\n",
    "import matplotlib.pyplot as plt"
   ]
  },
  {
   "cell_type": "code",
   "execution_count": 2,
   "metadata": {},
   "outputs": [],
   "source": [
    "file = \"PS_10_Global_Macro.xlsx\""
   ]
  },
  {
   "cell_type": "code",
   "execution_count": 3,
   "metadata": {},
   "outputs": [
    {
     "data": {
      "text/html": [
       "<div>\n",
       "<style scoped>\n",
       "    .dataframe tbody tr th:only-of-type {\n",
       "        vertical-align: middle;\n",
       "    }\n",
       "\n",
       "    .dataframe tbody tr th {\n",
       "        vertical-align: top;\n",
       "    }\n",
       "\n",
       "    .dataframe thead th {\n",
       "        text-align: right;\n",
       "    }\n",
       "</style>\n",
       "<table border=\"1\" class=\"dataframe\">\n",
       "  <thead>\n",
       "    <tr style=\"text-align: right;\">\n",
       "      <th></th>\n",
       "      <th>Australia</th>\n",
       "      <th>Germany / Euro</th>\n",
       "      <th>Canada</th>\n",
       "      <th>Japan</th>\n",
       "      <th>New Zealand</th>\n",
       "      <th>Sweden</th>\n",
       "      <th>Switzerland</th>\n",
       "      <th>UK</th>\n",
       "      <th>US</th>\n",
       "    </tr>\n",
       "    <tr>\n",
       "      <th>date</th>\n",
       "      <th></th>\n",
       "      <th></th>\n",
       "      <th></th>\n",
       "      <th></th>\n",
       "      <th></th>\n",
       "      <th></th>\n",
       "      <th></th>\n",
       "      <th></th>\n",
       "      <th></th>\n",
       "    </tr>\n",
       "  </thead>\n",
       "  <tbody>\n",
       "    <tr>\n",
       "      <th>1979-12-31</th>\n",
       "      <td>NaN</td>\n",
       "      <td>NaN</td>\n",
       "      <td>NaN</td>\n",
       "      <td>NaN</td>\n",
       "      <td>NaN</td>\n",
       "      <td>NaN</td>\n",
       "      <td>NaN</td>\n",
       "      <td>NaN</td>\n",
       "      <td>NaN</td>\n",
       "    </tr>\n",
       "    <tr>\n",
       "      <th>1980-01-31</th>\n",
       "      <td>-0.000444</td>\n",
       "      <td>-0.012384</td>\n",
       "      <td>0.005701</td>\n",
       "      <td>-0.002052</td>\n",
       "      <td>-0.001362</td>\n",
       "      <td>-0.006747</td>\n",
       "      <td>-0.025869</td>\n",
       "      <td>0.023979</td>\n",
       "      <td>0.0</td>\n",
       "    </tr>\n",
       "    <tr>\n",
       "      <th>1980-02-29</th>\n",
       "      <td>-0.011935</td>\n",
       "      <td>-0.024018</td>\n",
       "      <td>0.012533</td>\n",
       "      <td>-0.050103</td>\n",
       "      <td>-0.015811</td>\n",
       "      <td>-0.014158</td>\n",
       "      <td>-0.046015</td>\n",
       "      <td>0.007125</td>\n",
       "      <td>0.0</td>\n",
       "    </tr>\n",
       "    <tr>\n",
       "      <th>1980-03-31</th>\n",
       "      <td>-0.019402</td>\n",
       "      <td>-0.096527</td>\n",
       "      <td>-0.045007</td>\n",
       "      <td>-0.005098</td>\n",
       "      <td>-0.035265</td>\n",
       "      <td>-0.065007</td>\n",
       "      <td>-0.093389</td>\n",
       "      <td>-0.049313</td>\n",
       "      <td>0.0</td>\n",
       "    </tr>\n",
       "    <tr>\n",
       "      <th>1980-04-30</th>\n",
       "      <td>0.026340</td>\n",
       "      <td>0.074189</td>\n",
       "      <td>0.005215</td>\n",
       "      <td>0.043219</td>\n",
       "      <td>0.022791</td>\n",
       "      <td>0.055034</td>\n",
       "      <td>0.096164</td>\n",
       "      <td>0.045273</td>\n",
       "      <td>0.0</td>\n",
       "    </tr>\n",
       "  </tbody>\n",
       "</table>\n",
       "</div>"
      ],
      "text/plain": [
       "            Australia  Germany / Euro    Canada     Japan  New Zealand  \\\n",
       "date                                                                     \n",
       "1979-12-31        NaN             NaN       NaN       NaN          NaN   \n",
       "1980-01-31  -0.000444       -0.012384  0.005701 -0.002052    -0.001362   \n",
       "1980-02-29  -0.011935       -0.024018  0.012533 -0.050103    -0.015811   \n",
       "1980-03-31  -0.019402       -0.096527 -0.045007 -0.005098    -0.035265   \n",
       "1980-04-30   0.026340        0.074189  0.005215  0.043219     0.022791   \n",
       "\n",
       "              Sweden  Switzerland        UK   US  \n",
       "date                                              \n",
       "1979-12-31       NaN          NaN       NaN  NaN  \n",
       "1980-01-31 -0.006747    -0.025869  0.023979  0.0  \n",
       "1980-02-29 -0.014158    -0.046015  0.007125  0.0  \n",
       "1980-03-31 -0.065007    -0.093389 -0.049313  0.0  \n",
       "1980-04-30  0.055034     0.096164  0.045273  0.0  "
      ]
     },
     "execution_count": 3,
     "metadata": {},
     "output_type": "execute_result"
    }
   ],
   "source": [
    "xrets = pd.read_excel(file, sheet_name=\"excess_returns\", parse_dates=[\"date\"], index_col=\"date\")\n",
    "xrets.head()"
   ]
  },
  {
   "cell_type": "markdown",
   "metadata": {},
   "source": [
    "The DataFrame contains the excess return of an investment of 1 USD in foreign currency over the US risk free rate (not annualized) for a 1-month investment period ENDING on date."
   ]
  },
  {
   "cell_type": "code",
   "execution_count": 4,
   "metadata": {
    "scrolled": true
   },
   "outputs": [
    {
     "data": {
      "text/html": [
       "<div>\n",
       "<style scoped>\n",
       "    .dataframe tbody tr th:only-of-type {\n",
       "        vertical-align: middle;\n",
       "    }\n",
       "\n",
       "    .dataframe tbody tr th {\n",
       "        vertical-align: top;\n",
       "    }\n",
       "\n",
       "    .dataframe thead th {\n",
       "        text-align: right;\n",
       "    }\n",
       "</style>\n",
       "<table border=\"1\" class=\"dataframe\">\n",
       "  <thead>\n",
       "    <tr style=\"text-align: right;\">\n",
       "      <th></th>\n",
       "      <th>Australia</th>\n",
       "      <th>Germany / Euro</th>\n",
       "      <th>Canada</th>\n",
       "      <th>Japan</th>\n",
       "      <th>New Zealand</th>\n",
       "      <th>Sweden</th>\n",
       "      <th>Switzerland</th>\n",
       "      <th>UK</th>\n",
       "      <th>US</th>\n",
       "    </tr>\n",
       "    <tr>\n",
       "      <th>date</th>\n",
       "      <th></th>\n",
       "      <th></th>\n",
       "      <th></th>\n",
       "      <th></th>\n",
       "      <th></th>\n",
       "      <th></th>\n",
       "      <th></th>\n",
       "      <th></th>\n",
       "      <th></th>\n",
       "    </tr>\n",
       "  </thead>\n",
       "  <tbody>\n",
       "    <tr>\n",
       "      <th>1979-12-31</th>\n",
       "      <td>0.1005</td>\n",
       "      <td>0.086875</td>\n",
       "      <td>0.13875</td>\n",
       "      <td>0.081250</td>\n",
       "      <td>0.116737</td>\n",
       "      <td>0.105295</td>\n",
       "      <td>0.058125</td>\n",
       "      <td>0.171250</td>\n",
       "      <td>0.146824</td>\n",
       "    </tr>\n",
       "    <tr>\n",
       "      <th>1980-01-31</th>\n",
       "      <td>0.1015</td>\n",
       "      <td>0.085000</td>\n",
       "      <td>0.14125</td>\n",
       "      <td>0.082500</td>\n",
       "      <td>0.120640</td>\n",
       "      <td>0.100520</td>\n",
       "      <td>0.054375</td>\n",
       "      <td>0.178750</td>\n",
       "      <td>0.145024</td>\n",
       "    </tr>\n",
       "    <tr>\n",
       "      <th>1980-02-29</th>\n",
       "      <td>0.1005</td>\n",
       "      <td>0.092500</td>\n",
       "      <td>0.14125</td>\n",
       "      <td>0.094375</td>\n",
       "      <td>0.120755</td>\n",
       "      <td>0.110779</td>\n",
       "      <td>0.057500</td>\n",
       "      <td>0.183750</td>\n",
       "      <td>0.172524</td>\n",
       "    </tr>\n",
       "    <tr>\n",
       "      <th>1980-03-31</th>\n",
       "      <td>0.1298</td>\n",
       "      <td>0.102500</td>\n",
       "      <td>0.15625</td>\n",
       "      <td>0.121875</td>\n",
       "      <td>0.121786</td>\n",
       "      <td>0.101899</td>\n",
       "      <td>0.071250</td>\n",
       "      <td>0.187500</td>\n",
       "      <td>0.198724</td>\n",
       "    </tr>\n",
       "    <tr>\n",
       "      <th>1980-04-30</th>\n",
       "      <td>0.1313</td>\n",
       "      <td>0.093750</td>\n",
       "      <td>0.15250</td>\n",
       "      <td>0.123750</td>\n",
       "      <td>0.120869</td>\n",
       "      <td>0.099783</td>\n",
       "      <td>0.061250</td>\n",
       "      <td>0.173125</td>\n",
       "      <td>0.141824</td>\n",
       "    </tr>\n",
       "  </tbody>\n",
       "</table>\n",
       "</div>"
      ],
      "text/plain": [
       "            Australia  Germany / Euro   Canada     Japan  New Zealand  \\\n",
       "date                                                                    \n",
       "1979-12-31     0.1005        0.086875  0.13875  0.081250     0.116737   \n",
       "1980-01-31     0.1015        0.085000  0.14125  0.082500     0.120640   \n",
       "1980-02-29     0.1005        0.092500  0.14125  0.094375     0.120755   \n",
       "1980-03-31     0.1298        0.102500  0.15625  0.121875     0.121786   \n",
       "1980-04-30     0.1313        0.093750  0.15250  0.123750     0.120869   \n",
       "\n",
       "              Sweden  Switzerland        UK        US  \n",
       "date                                                   \n",
       "1979-12-31  0.105295     0.058125  0.171250  0.146824  \n",
       "1980-01-31  0.100520     0.054375  0.178750  0.145024  \n",
       "1980-02-29  0.110779     0.057500  0.183750  0.172524  \n",
       "1980-03-31  0.101899     0.071250  0.187500  0.198724  \n",
       "1980-04-30  0.099783     0.061250  0.173125  0.141824  "
      ]
     },
     "execution_count": 4,
     "metadata": {},
     "output_type": "execute_result"
    }
   ],
   "source": [
    "rates = pd.read_excel(file, sheet_name=\"interest_rates\", parse_dates=[\"date\"], index_col=\"date\")\n",
    "rates.head()"
   ]
  },
  {
   "cell_type": "markdown",
   "metadata": {},
   "source": [
    "The DataFrame contains the annualized interest rate as of date."
   ]
  },
  {
   "cell_type": "code",
   "execution_count": 5,
   "metadata": {},
   "outputs": [
    {
     "data": {
      "image/png": "[encoded data removed]",
      "text/plain": [
       "<Figure size 432x288 with 1 Axes>"
      ]
     },
     "metadata": {
      "needs_background": "light"
     },
     "output_type": "display_data"
    }
   ],
   "source": [
    "rates.plot()\n",
    "plt.title(\"Interest rates over time\")\n",
    "plt.show()"
   ]
  },
  {
   "cell_type": "code",
   "execution_count": 6,
   "metadata": {
    "scrolled": true
   },
   "outputs": [],
   "source": [
    "tc = pd.read_excel(file, sheet_name=\"transaction_costs\").iloc[0,:]"
   ]
  },
  {
   "cell_type": "markdown",
   "metadata": {},
   "source": [
    "The Series contains proportional transaction costs for each currency."
   ]
  },
  {
   "cell_type": "code",
   "execution_count": 7,
   "metadata": {},
   "outputs": [
    {
     "data": {
      "image/png": "[encoded data removed]",
      "text/plain": [
       "<Figure size 432x288 with 1 Axes>"
      ]
     },
     "metadata": {
      "needs_background": "light"
     },
     "output_type": "display_data"
    }
   ],
   "source": [
    "tc.plot.bar()\n",
    "plt.title(\"Proportional transaction costs\")\n",
    "plt.show()"
   ]
  },
  {
   "cell_type": "markdown",
   "metadata": {},
   "source": [
    "Computing ranks can be done easily using Pandas \"rank\" method: https://pandas.pydata.org/pandas-docs/stable/reference/api/pandas.DataFrame.rank.html <br>\n",
    "The \"method\" argument is relevant if groups of records have the same value (there is no right or wrong regarding this choice - you can just stick to the default)."
   ]
  },
  {
   "cell_type": "code",
   "execution_count": 8,
   "metadata": {
    "scrolled": true
   },
   "outputs": [
    {
     "data": {
      "text/plain": [
       "Japan             1.74\n",
       "Switzerland       1.91\n",
       "Germany / Euro    3.80\n",
       "US                4.47\n",
       "Canada            5.35\n",
       "Sweden            5.82\n",
       "UK                6.65\n",
       "Australia         7.51\n",
       "New Zealand       7.71\n",
       "dtype: float64"
      ]
     },
     "execution_count": 8,
     "metadata": {},
     "output_type": "execute_result"
    }
   ],
   "source": [
    "ranks = rates.rank(axis=1, method=\"min\")\n",
    "round(ranks.mean().sort_values(), 2)"
   ]
  },
  {
   "cell_type": "markdown",
   "metadata": {},
   "source": [
    "__Results:__\n",
    "<ul>\n",
    "    <li>Japan has the lowest average rank (i.e. it is most often a funding currency)</li>\n",
    "    <li>Switzerland has the second lowest average rank</li>\n",
    "    <li>New Zealand is most often investment currency, i.e highest average rank</li>\n",
    "    <li>Australia is second to most often investment currency</li>\n",
    "</ul>"
   ]
  },
  {
   "cell_type": "markdown",
   "metadata": {},
   "source": [
    "Plot here the rank of the US over time:"
   ]
  },
  {
   "cell_type": "code",
   "execution_count": 9,
   "metadata": {
    "scrolled": true
   },
   "outputs": [
    {
     "data": {
      "image/png": "[encoded data removed]",
      "text/plain": [
       "<Figure size 432x288 with 1 Axes>"
      ]
     },
     "metadata": {
      "needs_background": "light"
     },
     "output_type": "display_data"
    }
   ],
   "source": [
    "ranks.loc[:,\"US\"].plot()\n",
    "plt.ylabel(\"Rank\")\n",
    "plt.title(\"Rank of the US over time\")\n",
    "plt.show()"
   ]
  },
  {
   "cell_type": "markdown",
   "metadata": {},
   "source": [
    "As you can see, the rank of the US does not fluctuate strongly over time. Changes occur rather slowly, causing relatively little turnover."
   ]
  },
  {
   "cell_type": "markdown",
   "metadata": {},
   "source": [
    "## 10.2 Carry positions*"
   ]
  },
  {
   "cell_type": "markdown",
   "metadata": {},
   "source": [
    "Create positions for each currency, either 1 USD (long), -1 USD (short), or 0 (flat). Do this by\n",
    "going short the three currencies with the lowest interest rate, and long the three with\n",
    "the highest interest rate.\n",
    "What is the average position in New Zealand dollars?"
   ]
  },
  {
   "cell_type": "code",
   "execution_count": 10,
   "metadata": {},
   "outputs": [],
   "source": [
    "# create boolean mask\n",
    "low = ranks < 4\n",
    "medium = (ranks > 3) & (ranks < 7)\n",
    "high = ranks > 6"
   ]
  },
  {
   "cell_type": "code",
   "execution_count": 11,
   "metadata": {},
   "outputs": [],
   "source": [
    "# copy DataFrame and then overwrite values\n",
    "positions = ranks.copy()\n",
    "positions[low] = -1\n",
    "positions[medium] = 0\n",
    "positions[high] = 1"
   ]
  },
  {
   "cell_type": "code",
   "execution_count": 12,
   "metadata": {},
   "outputs": [
    {
     "data": {
      "image/png": "[encoded data removed]",
      "text/plain": [
       "<Figure size 432x288 with 1 Axes>"
      ]
     },
     "metadata": {
      "needs_background": "light"
     },
     "output_type": "display_data"
    }
   ],
   "source": [
    "positions.mean().sort_values().plot.bar()\n",
    "plt.ylabel(\"Average position in USD\")\n",
    "plt.show()"
   ]
  },
  {
   "cell_type": "code",
   "execution_count": 13,
   "metadata": {},
   "outputs": [
    {
     "name": "stdout",
     "output_type": "stream",
     "text": [
      "Average position in New Zealand: 0.7607655502392344\n"
     ]
    }
   ],
   "source": [
    "print(\"Average position in New Zealand:\", positions.loc[:,\"New Zealand\"].mean())"
   ]
  },
  {
   "cell_type": "markdown",
   "metadata": {},
   "source": [
    "## 10.3 Carry trade return*"
   ]
  },
  {
   "cell_type": "markdown",
   "metadata": {},
   "source": [
    "Compute the excess return on each position, and add these up to get the excess return of the entire portfolio in any month. Make sure to get the timing right. (Hint: use SKEW and KURT, and annualize as in notes.) <br>\n",
    "\n",
    "&nbsp; &nbsp; &nbsp; a. What is the annualized average excess return of the portfolio? <br>\n",
    "&nbsp; &nbsp; &nbsp; b. What is the annualized standard deviation? <br>\n",
    "&nbsp; &nbsp; &nbsp; c. What is the annualized SR? <br>\n",
    "&nbsp; &nbsp; &nbsp; d. What is the skewness of monthly returns? <br>\n",
    "&nbsp; &nbsp; &nbsp; e. What is the (excess) kurtosis of monthly return? <br>\n",
    "&nbsp; &nbsp; &nbsp; f. Comment on these numbers. <br>"
   ]
  },
  {
   "cell_type": "code",
   "execution_count": 14,
   "metadata": {},
   "outputs": [],
   "source": [
    "def performance_statistics(rets):\n",
    "    \n",
    "    # compute summary statistics\n",
    "    stats = pd.Series([rets.mean() * 12,                              # annualized average return\n",
    "                       rets.std() * np.sqrt(12),                      # annualized standard deviation\n",
    "                       rets.mean() / rets.std() * np.sqrt(12),        # annualized sharpe ratio\n",
    "                       rets.skew(),                                   # skewness of returns\n",
    "                       rets.kurt()],                                  # kurtosis of returns\n",
    "                      index=[\"Avg ret\", \"Std\", \"SR\", \"Skew\", \"Kurt\"])\n",
    "    \n",
    "    # format in percent\n",
    "    for stat in [\"Avg ret\", \"Std\"]: stats.loc[stat] = \"{0:.2f}%\".format(stats.loc[stat] * 100)\n",
    "    \n",
    "    # round to two decimals\n",
    "    for stat in [\"SR\", \"Skew\", \"Kurt\"]: stats.loc[stat] = round(stats.loc[stat], 2)\n",
    "\n",
    "    return stats"
   ]
  },
  {
   "cell_type": "markdown",
   "metadata": {},
   "source": [
    "**Important:** use the position at the RIGHT time, that is, position based on interest-rate known **BEFORE** the return period starts"
   ]
  },
  {
   "cell_type": "code",
   "execution_count": 15,
   "metadata": {
    "scrolled": true
   },
   "outputs": [
    {
     "data": {
      "text/html": [
       "<div>\n",
       "<style scoped>\n",
       "    .dataframe tbody tr th:only-of-type {\n",
       "        vertical-align: middle;\n",
       "    }\n",
       "\n",
       "    .dataframe tbody tr th {\n",
       "        vertical-align: top;\n",
       "    }\n",
       "\n",
       "    .dataframe thead th {\n",
       "        text-align: right;\n",
       "    }\n",
       "</style>\n",
       "<table border=\"1\" class=\"dataframe\">\n",
       "  <thead>\n",
       "    <tr style=\"text-align: right;\">\n",
       "      <th></th>\n",
       "      <th>Australia</th>\n",
       "      <th>Germany / Euro</th>\n",
       "      <th>Canada</th>\n",
       "      <th>Japan</th>\n",
       "      <th>New Zealand</th>\n",
       "      <th>Sweden</th>\n",
       "      <th>Switzerland</th>\n",
       "      <th>UK</th>\n",
       "      <th>US</th>\n",
       "    </tr>\n",
       "    <tr>\n",
       "      <th>date</th>\n",
       "      <th></th>\n",
       "      <th></th>\n",
       "      <th></th>\n",
       "      <th></th>\n",
       "      <th></th>\n",
       "      <th></th>\n",
       "      <th></th>\n",
       "      <th></th>\n",
       "      <th></th>\n",
       "    </tr>\n",
       "  </thead>\n",
       "  <tbody>\n",
       "    <tr>\n",
       "      <th>1979-12-31</th>\n",
       "      <td>NaN</td>\n",
       "      <td>NaN</td>\n",
       "      <td>NaN</td>\n",
       "      <td>NaN</td>\n",
       "      <td>NaN</td>\n",
       "      <td>NaN</td>\n",
       "      <td>NaN</td>\n",
       "      <td>NaN</td>\n",
       "      <td>NaN</td>\n",
       "    </tr>\n",
       "    <tr>\n",
       "      <th>1980-01-31</th>\n",
       "      <td>-0.0</td>\n",
       "      <td>0.012384</td>\n",
       "      <td>0.005701</td>\n",
       "      <td>0.002052</td>\n",
       "      <td>-0.0</td>\n",
       "      <td>-0.000000</td>\n",
       "      <td>0.025869</td>\n",
       "      <td>0.023979</td>\n",
       "      <td>0.0</td>\n",
       "    </tr>\n",
       "    <tr>\n",
       "      <th>1980-02-29</th>\n",
       "      <td>-0.0</td>\n",
       "      <td>0.024018</td>\n",
       "      <td>0.012533</td>\n",
       "      <td>0.050103</td>\n",
       "      <td>-0.0</td>\n",
       "      <td>-0.000000</td>\n",
       "      <td>0.046015</td>\n",
       "      <td>0.007125</td>\n",
       "      <td>0.0</td>\n",
       "    </tr>\n",
       "    <tr>\n",
       "      <th>1980-03-31</th>\n",
       "      <td>-0.0</td>\n",
       "      <td>0.096527</td>\n",
       "      <td>-0.045007</td>\n",
       "      <td>0.005098</td>\n",
       "      <td>-0.0</td>\n",
       "      <td>-0.000000</td>\n",
       "      <td>0.093389</td>\n",
       "      <td>-0.049313</td>\n",
       "      <td>0.0</td>\n",
       "    </tr>\n",
       "    <tr>\n",
       "      <th>1980-04-30</th>\n",
       "      <td>0.0</td>\n",
       "      <td>-0.074189</td>\n",
       "      <td>0.005215</td>\n",
       "      <td>0.000000</td>\n",
       "      <td>0.0</td>\n",
       "      <td>-0.055034</td>\n",
       "      <td>-0.096164</td>\n",
       "      <td>0.045273</td>\n",
       "      <td>0.0</td>\n",
       "    </tr>\n",
       "  </tbody>\n",
       "</table>\n",
       "</div>"
      ],
      "text/plain": [
       "            Australia  Germany / Euro    Canada     Japan  New Zealand  \\\n",
       "date                                                                     \n",
       "1979-12-31        NaN             NaN       NaN       NaN          NaN   \n",
       "1980-01-31       -0.0        0.012384  0.005701  0.002052         -0.0   \n",
       "1980-02-29       -0.0        0.024018  0.012533  0.050103         -0.0   \n",
       "1980-03-31       -0.0        0.096527 -0.045007  0.005098         -0.0   \n",
       "1980-04-30        0.0       -0.074189  0.005215  0.000000          0.0   \n",
       "\n",
       "              Sweden  Switzerland        UK   US  \n",
       "date                                              \n",
       "1979-12-31       NaN          NaN       NaN  NaN  \n",
       "1980-01-31 -0.000000     0.025869  0.023979  0.0  \n",
       "1980-02-29 -0.000000     0.046015  0.007125  0.0  \n",
       "1980-03-31 -0.000000     0.093389 -0.049313  0.0  \n",
       "1980-04-30 -0.055034    -0.096164  0.045273  0.0  "
      ]
     },
     "execution_count": 15,
     "metadata": {},
     "output_type": "execute_result"
    }
   ],
   "source": [
    "carry_xrets = positions.shift() * xrets\n",
    "carry_xrets.head()"
   ]
  },
  {
   "cell_type": "code",
   "execution_count": 16,
   "metadata": {},
   "outputs": [],
   "source": [
    "portfolio_xrets = carry_xrets.sum(axis=1, min_count=1)"
   ]
  },
  {
   "cell_type": "code",
   "execution_count": 17,
   "metadata": {
    "scrolled": true
   },
   "outputs": [
    {
     "data": {
      "text/plain": [
       "Avg ret    15.15%\n",
       "Std        28.74%\n",
       "SR           0.53\n",
       "Skew        -1.07\n",
       "Kurt         2.76\n",
       "dtype: object"
      ]
     },
     "execution_count": 17,
     "metadata": {},
     "output_type": "execute_result"
    }
   ],
   "source": [
    "# print performance statistics for the carry portfolio\n",
    "performance_statistics(portfolio_xrets)"
   ]
  },
  {
   "cell_type": "markdown",
   "metadata": {},
   "source": [
    "__Comments:__\n",
    "<ul>\n",
    "    <li>This simple strategy achieved high returns and Sharpe Ratio</li>\n",
    "    <li>Skewness and kurtosis indicate significant crash risk</li>\n",
    "</ul>"
   ]
  },
  {
   "cell_type": "markdown",
   "metadata": {},
   "source": [
    "## 10.4 Transaction costs*"
   ]
  },
  {
   "cell_type": "markdown",
   "metadata": {},
   "source": [
    "For each currency, compute the trade each month, that is, the change in position. (Position this month minus last month.) Assuming that the transaction costs are proportional as given in the sheet, compute the transaction costs for each currency. Add up the transaction costs to get the total transaction costs. Subtract total transaction costs from the portfolio’s excess return to get the return net of trading costs.\n",
    "\n",
    "&nbsp; &nbsp; &nbsp; a. What is the annualized average net return of the portfolio? <br>\n",
    "&nbsp; &nbsp; &nbsp; b. What is the annualized net SR? <br>\n",
    "&nbsp; &nbsp; &nbsp; c. Why is the effect of transaction costs so modest in this case? <br>\n",
    "&nbsp; &nbsp; &nbsp; &nbsp; &nbsp; Do you think that this is typical of all trading strategies? <br>\n",
    "&nbsp; &nbsp; &nbsp; &nbsp; &nbsp; Under which circumstances might a global macro trader incur larger transaction costs in connection with the currency carry trade?"
   ]
  },
  {
   "cell_type": "markdown",
   "metadata": {},
   "source": [
    "Positions after one month are the invested amounts times their return:"
   ]
  },
  {
   "cell_type": "code",
   "execution_count": 31,
   "metadata": {},
   "outputs": [
    {
     "data": {
      "text/html": [
       "<div>\n",
       "<style scoped>\n",
       "    .dataframe tbody tr th:only-of-type {\n",
       "        vertical-align: middle;\n",
       "    }\n",
       "\n",
       "    .dataframe tbody tr th {\n",
       "        vertical-align: top;\n",
       "    }\n",
       "\n",
       "    .dataframe thead th {\n",
       "        text-align: right;\n",
       "    }\n",
       "</style>\n",
       "<table border=\"1\" class=\"dataframe\">\n",
       "  <thead>\n",
       "    <tr style=\"text-align: right;\">\n",
       "      <th></th>\n",
       "      <th>Australia</th>\n",
       "      <th>Germany / Euro</th>\n",
       "      <th>Canada</th>\n",
       "      <th>Japan</th>\n",
       "      <th>New Zealand</th>\n",
       "      <th>Sweden</th>\n",
       "      <th>Switzerland</th>\n",
       "      <th>UK</th>\n",
       "      <th>US</th>\n",
       "    </tr>\n",
       "    <tr>\n",
       "      <th>date</th>\n",
       "      <th></th>\n",
       "      <th></th>\n",
       "      <th></th>\n",
       "      <th></th>\n",
       "      <th></th>\n",
       "      <th></th>\n",
       "      <th></th>\n",
       "      <th></th>\n",
       "      <th></th>\n",
       "    </tr>\n",
       "  </thead>\n",
       "  <tbody>\n",
       "    <tr>\n",
       "      <th>1979-12-31</th>\n",
       "      <td>0.000000</td>\n",
       "      <td>0.000000</td>\n",
       "      <td>0.000000</td>\n",
       "      <td>0.000000</td>\n",
       "      <td>0.000000</td>\n",
       "      <td>0.000000</td>\n",
       "      <td>0.000000</td>\n",
       "      <td>0.000000</td>\n",
       "      <td>0.000000</td>\n",
       "    </tr>\n",
       "    <tr>\n",
       "      <th>1980-01-31</th>\n",
       "      <td>0.000000</td>\n",
       "      <td>-0.999852</td>\n",
       "      <td>1.017936</td>\n",
       "      <td>-1.010183</td>\n",
       "      <td>0.000000</td>\n",
       "      <td>0.000000</td>\n",
       "      <td>-0.986366</td>\n",
       "      <td>1.036214</td>\n",
       "      <td>1.012235</td>\n",
       "    </tr>\n",
       "    <tr>\n",
       "      <th>1980-02-29</th>\n",
       "      <td>0.000000</td>\n",
       "      <td>-0.988068</td>\n",
       "      <td>1.024618</td>\n",
       "      <td>-0.961983</td>\n",
       "      <td>0.000000</td>\n",
       "      <td>0.000000</td>\n",
       "      <td>-0.966070</td>\n",
       "      <td>1.019211</td>\n",
       "      <td>1.012085</td>\n",
       "    </tr>\n",
       "    <tr>\n",
       "      <th>1980-03-31</th>\n",
       "      <td>0.000000</td>\n",
       "      <td>-0.917850</td>\n",
       "      <td>0.969370</td>\n",
       "      <td>-1.009279</td>\n",
       "      <td>0.000000</td>\n",
       "      <td>0.000000</td>\n",
       "      <td>-0.920988</td>\n",
       "      <td>0.965064</td>\n",
       "      <td>1.014377</td>\n",
       "    </tr>\n",
       "    <tr>\n",
       "      <th>1980-04-30</th>\n",
       "      <td>0.000000</td>\n",
       "      <td>-1.090749</td>\n",
       "      <td>1.021775</td>\n",
       "      <td>0.000000</td>\n",
       "      <td>0.000000</td>\n",
       "      <td>-1.071594</td>\n",
       "      <td>-1.112724</td>\n",
       "      <td>1.061833</td>\n",
       "      <td>1.016560</td>\n",
       "    </tr>\n",
       "    <tr>\n",
       "      <th>...</th>\n",
       "      <td>...</td>\n",
       "      <td>...</td>\n",
       "      <td>...</td>\n",
       "      <td>...</td>\n",
       "      <td>...</td>\n",
       "      <td>...</td>\n",
       "      <td>...</td>\n",
       "      <td>...</td>\n",
       "      <td>...</td>\n",
       "    </tr>\n",
       "    <tr>\n",
       "      <th>2014-05-30</th>\n",
       "      <td>1.005780</td>\n",
       "      <td>0.000000</td>\n",
       "      <td>1.012588</td>\n",
       "      <td>-1.004922</td>\n",
       "      <td>0.992063</td>\n",
       "      <td>0.000000</td>\n",
       "      <td>-0.982342</td>\n",
       "      <td>0.000000</td>\n",
       "      <td>-1.000186</td>\n",
       "    </tr>\n",
       "    <tr>\n",
       "      <th>2014-06-30</th>\n",
       "      <td>1.014060</td>\n",
       "      <td>0.000000</td>\n",
       "      <td>1.016634</td>\n",
       "      <td>-1.003923</td>\n",
       "      <td>1.034244</td>\n",
       "      <td>0.000000</td>\n",
       "      <td>-1.007792</td>\n",
       "      <td>0.000000</td>\n",
       "      <td>-1.000190</td>\n",
       "    </tr>\n",
       "    <tr>\n",
       "      <th>2014-07-31</th>\n",
       "      <td>0.991203</td>\n",
       "      <td>-0.979955</td>\n",
       "      <td>0.979926</td>\n",
       "      <td>-0.985755</td>\n",
       "      <td>0.973239</td>\n",
       "      <td>0.000000</td>\n",
       "      <td>-0.978627</td>\n",
       "      <td>0.000000</td>\n",
       "      <td>0.000000</td>\n",
       "    </tr>\n",
       "    <tr>\n",
       "      <th>2014-08-29</th>\n",
       "      <td>1.006508</td>\n",
       "      <td>-0.984110</td>\n",
       "      <td>1.006777</td>\n",
       "      <td>-0.989417</td>\n",
       "      <td>0.989885</td>\n",
       "      <td>0.000000</td>\n",
       "      <td>-0.992570</td>\n",
       "      <td>0.000000</td>\n",
       "      <td>0.000000</td>\n",
       "    </tr>\n",
       "    <tr>\n",
       "      <th>2014-09-30</th>\n",
       "      <td>0.939539</td>\n",
       "      <td>-0.958855</td>\n",
       "      <td>0.971572</td>\n",
       "      <td>-0.947955</td>\n",
       "      <td>0.933801</td>\n",
       "      <td>0.000000</td>\n",
       "      <td>-0.957963</td>\n",
       "      <td>0.000000</td>\n",
       "      <td>0.000000</td>\n",
       "    </tr>\n",
       "  </tbody>\n",
       "</table>\n",
       "<p>418 rows × 9 columns</p>\n",
       "</div>"
      ],
      "text/plain": [
       "            Australia  Germany / Euro    Canada     Japan  New Zealand  \\\n",
       "date                                                                     \n",
       "1979-12-31   0.000000        0.000000  0.000000  0.000000     0.000000   \n",
       "1980-01-31   0.000000       -0.999852  1.017936 -1.010183     0.000000   \n",
       "1980-02-29   0.000000       -0.988068  1.024618 -0.961983     0.000000   \n",
       "1980-03-31   0.000000       -0.917850  0.969370 -1.009279     0.000000   \n",
       "1980-04-30   0.000000       -1.090749  1.021775  0.000000     0.000000   \n",
       "...               ...             ...       ...       ...          ...   \n",
       "2014-05-30   1.005780        0.000000  1.012588 -1.004922     0.992063   \n",
       "2014-06-30   1.014060        0.000000  1.016634 -1.003923     1.034244   \n",
       "2014-07-31   0.991203       -0.979955  0.979926 -0.985755     0.973239   \n",
       "2014-08-29   1.006508       -0.984110  1.006777 -0.989417     0.989885   \n",
       "2014-09-30   0.939539       -0.958855  0.971572 -0.947955     0.933801   \n",
       "\n",
       "              Sweden  Switzerland        UK        US  \n",
       "date                                                   \n",
       "1979-12-31  0.000000     0.000000  0.000000  0.000000  \n",
       "1980-01-31  0.000000    -0.986366  1.036214  1.012235  \n",
       "1980-02-29  0.000000    -0.966070  1.019211  1.012085  \n",
       "1980-03-31  0.000000    -0.920988  0.965064  1.014377  \n",
       "1980-04-30 -1.071594    -1.112724  1.061833  1.016560  \n",
       "...              ...          ...       ...       ...  \n",
       "2014-05-30  0.000000    -0.982342  0.000000 -1.000186  \n",
       "2014-06-30  0.000000    -1.007792  0.000000 -1.000190  \n",
       "2014-07-31  0.000000    -0.978627  0.000000  0.000000  \n",
       "2014-08-29  0.000000    -0.992570  0.000000  0.000000  \n",
       "2014-09-30  0.000000    -0.957963  0.000000  0.000000  \n",
       "\n",
       "[418 rows x 9 columns]"
      ]
     },
     "execution_count": 31,
     "metadata": {},
     "output_type": "execute_result"
    }
   ],
   "source": [
    "us_rate = (rates.loc[:,\"US\"] / 12)\n",
    "rets = xrets.add(us_rate.shift(), axis=0)\n",
    "positions_dev = positions.shift() * (1 + rets)\n",
    "positions_dev = positions_dev.fillna(0)\n",
    "positions_dev"
   ]
  },
  {
   "cell_type": "markdown",
   "metadata": {},
   "source": [
    "To compute trade sizes, compare positions after one month with the new positions given by the carry strategy:"
   ]
  },
  {
   "cell_type": "code",
   "execution_count": 30,
   "metadata": {},
   "outputs": [
    {
     "data": {
      "text/html": [
       "<div>\n",
       "<style scoped>\n",
       "    .dataframe tbody tr th:only-of-type {\n",
       "        vertical-align: middle;\n",
       "    }\n",
       "\n",
       "    .dataframe tbody tr th {\n",
       "        vertical-align: top;\n",
       "    }\n",
       "\n",
       "    .dataframe thead th {\n",
       "        text-align: right;\n",
       "    }\n",
       "</style>\n",
       "<table border=\"1\" class=\"dataframe\">\n",
       "  <thead>\n",
       "    <tr style=\"text-align: right;\">\n",
       "      <th></th>\n",
       "      <th>Australia</th>\n",
       "      <th>Germany / Euro</th>\n",
       "      <th>Canada</th>\n",
       "      <th>Japan</th>\n",
       "      <th>New Zealand</th>\n",
       "      <th>Sweden</th>\n",
       "      <th>Switzerland</th>\n",
       "      <th>UK</th>\n",
       "      <th>US</th>\n",
       "    </tr>\n",
       "    <tr>\n",
       "      <th>date</th>\n",
       "      <th></th>\n",
       "      <th></th>\n",
       "      <th></th>\n",
       "      <th></th>\n",
       "      <th></th>\n",
       "      <th></th>\n",
       "      <th></th>\n",
       "      <th></th>\n",
       "      <th></th>\n",
       "    </tr>\n",
       "  </thead>\n",
       "  <tbody>\n",
       "    <tr>\n",
       "      <th>1979-12-31</th>\n",
       "      <td>0.000000</td>\n",
       "      <td>1.000000</td>\n",
       "      <td>1.000000</td>\n",
       "      <td>1.000000</td>\n",
       "      <td>0.000000</td>\n",
       "      <td>0.000000</td>\n",
       "      <td>1.000000</td>\n",
       "      <td>1.000000</td>\n",
       "      <td>1.000000</td>\n",
       "    </tr>\n",
       "    <tr>\n",
       "      <th>1980-01-31</th>\n",
       "      <td>0.000000</td>\n",
       "      <td>0.000148</td>\n",
       "      <td>0.017936</td>\n",
       "      <td>0.010183</td>\n",
       "      <td>0.000000</td>\n",
       "      <td>0.000000</td>\n",
       "      <td>0.013634</td>\n",
       "      <td>0.036214</td>\n",
       "      <td>0.012235</td>\n",
       "    </tr>\n",
       "    <tr>\n",
       "      <th>1980-02-29</th>\n",
       "      <td>0.000000</td>\n",
       "      <td>0.011932</td>\n",
       "      <td>0.024618</td>\n",
       "      <td>0.038017</td>\n",
       "      <td>0.000000</td>\n",
       "      <td>0.000000</td>\n",
       "      <td>0.033930</td>\n",
       "      <td>0.019211</td>\n",
       "      <td>0.012085</td>\n",
       "    </tr>\n",
       "    <tr>\n",
       "      <th>1980-03-31</th>\n",
       "      <td>0.000000</td>\n",
       "      <td>0.082150</td>\n",
       "      <td>0.030630</td>\n",
       "      <td>1.009279</td>\n",
       "      <td>0.000000</td>\n",
       "      <td>1.000000</td>\n",
       "      <td>0.079012</td>\n",
       "      <td>0.034936</td>\n",
       "      <td>0.014377</td>\n",
       "    </tr>\n",
       "    <tr>\n",
       "      <th>1980-04-30</th>\n",
       "      <td>0.000000</td>\n",
       "      <td>0.090749</td>\n",
       "      <td>0.021775</td>\n",
       "      <td>0.000000</td>\n",
       "      <td>0.000000</td>\n",
       "      <td>0.071594</td>\n",
       "      <td>0.112724</td>\n",
       "      <td>0.061833</td>\n",
       "      <td>0.016560</td>\n",
       "    </tr>\n",
       "    <tr>\n",
       "      <th>...</th>\n",
       "      <td>...</td>\n",
       "      <td>...</td>\n",
       "      <td>...</td>\n",
       "      <td>...</td>\n",
       "      <td>...</td>\n",
       "      <td>...</td>\n",
       "      <td>...</td>\n",
       "      <td>...</td>\n",
       "      <td>...</td>\n",
       "    </tr>\n",
       "    <tr>\n",
       "      <th>2014-05-30</th>\n",
       "      <td>0.005780</td>\n",
       "      <td>0.000000</td>\n",
       "      <td>0.012588</td>\n",
       "      <td>0.004922</td>\n",
       "      <td>0.007937</td>\n",
       "      <td>0.000000</td>\n",
       "      <td>0.017658</td>\n",
       "      <td>0.000000</td>\n",
       "      <td>0.000186</td>\n",
       "    </tr>\n",
       "    <tr>\n",
       "      <th>2014-06-30</th>\n",
       "      <td>0.014060</td>\n",
       "      <td>1.000000</td>\n",
       "      <td>0.016634</td>\n",
       "      <td>0.003923</td>\n",
       "      <td>0.034244</td>\n",
       "      <td>0.000000</td>\n",
       "      <td>0.007792</td>\n",
       "      <td>0.000000</td>\n",
       "      <td>1.000190</td>\n",
       "    </tr>\n",
       "    <tr>\n",
       "      <th>2014-07-31</th>\n",
       "      <td>0.008797</td>\n",
       "      <td>0.020045</td>\n",
       "      <td>0.020074</td>\n",
       "      <td>0.014245</td>\n",
       "      <td>0.026761</td>\n",
       "      <td>0.000000</td>\n",
       "      <td>0.021373</td>\n",
       "      <td>0.000000</td>\n",
       "      <td>0.000000</td>\n",
       "    </tr>\n",
       "    <tr>\n",
       "      <th>2014-08-29</th>\n",
       "      <td>0.006508</td>\n",
       "      <td>0.015890</td>\n",
       "      <td>0.006777</td>\n",
       "      <td>0.010583</td>\n",
       "      <td>0.010115</td>\n",
       "      <td>0.000000</td>\n",
       "      <td>0.007430</td>\n",
       "      <td>0.000000</td>\n",
       "      <td>0.000000</td>\n",
       "    </tr>\n",
       "    <tr>\n",
       "      <th>2014-09-30</th>\n",
       "      <td>0.060461</td>\n",
       "      <td>0.041145</td>\n",
       "      <td>0.028428</td>\n",
       "      <td>0.052045</td>\n",
       "      <td>0.066199</td>\n",
       "      <td>0.000000</td>\n",
       "      <td>0.042037</td>\n",
       "      <td>0.000000</td>\n",
       "      <td>0.000000</td>\n",
       "    </tr>\n",
       "  </tbody>\n",
       "</table>\n",
       "<p>418 rows × 9 columns</p>\n",
       "</div>"
      ],
      "text/plain": [
       "            Australia  Germany / Euro    Canada     Japan  New Zealand  \\\n",
       "date                                                                     \n",
       "1979-12-31   0.000000        1.000000  1.000000  1.000000     0.000000   \n",
       "1980-01-31   0.000000        0.000148  0.017936  0.010183     0.000000   \n",
       "1980-02-29   0.000000        0.011932  0.024618  0.038017     0.000000   \n",
       "1980-03-31   0.000000        0.082150  0.030630  1.009279     0.000000   \n",
       "1980-04-30   0.000000        0.090749  0.021775  0.000000     0.000000   \n",
       "...               ...             ...       ...       ...          ...   \n",
       "2014-05-30   0.005780        0.000000  0.012588  0.004922     0.007937   \n",
       "2014-06-30   0.014060        1.000000  0.016634  0.003923     0.034244   \n",
       "2014-07-31   0.008797        0.020045  0.020074  0.014245     0.026761   \n",
       "2014-08-29   0.006508        0.015890  0.006777  0.010583     0.010115   \n",
       "2014-09-30   0.060461        0.041145  0.028428  0.052045     0.066199   \n",
       "\n",
       "              Sweden  Switzerland        UK        US  \n",
       "date                                                   \n",
       "1979-12-31  0.000000     1.000000  1.000000  1.000000  \n",
       "1980-01-31  0.000000     0.013634  0.036214  0.012235  \n",
       "1980-02-29  0.000000     0.033930  0.019211  0.012085  \n",
       "1980-03-31  1.000000     0.079012  0.034936  0.014377  \n",
       "1980-04-30  0.071594     0.112724  0.061833  0.016560  \n",
       "...              ...          ...       ...       ...  \n",
       "2014-05-30  0.000000     0.017658  0.000000  0.000186  \n",
       "2014-06-30  0.000000     0.007792  0.000000  1.000190  \n",
       "2014-07-31  0.000000     0.021373  0.000000  0.000000  \n",
       "2014-08-29  0.000000     0.007430  0.000000  0.000000  \n",
       "2014-09-30  0.000000     0.042037  0.000000  0.000000  \n",
       "\n",
       "[418 rows x 9 columns]"
      ]
     },
     "execution_count": 30,
     "metadata": {},
     "output_type": "execute_result"
    }
   ],
   "source": [
    "trade_sizes = (positions_dev - positions).abs()\n",
    "trade_sizes"
   ]
  },
  {
   "cell_type": "markdown",
   "metadata": {},
   "source": [
    "Transaction costs are proportional to the change in position. Total costs at each point in time are the sum of costs occuring for each trade:"
   ]
  },
  {
   "cell_type": "code",
   "execution_count": 20,
   "metadata": {},
   "outputs": [],
   "source": [
    "total_costs = (trade_sizes.shift() * tc).sum(axis=1)"
   ]
  },
  {
   "cell_type": "code",
   "execution_count": 21,
   "metadata": {
    "scrolled": true
   },
   "outputs": [
    {
     "name": "stdout",
     "output_type": "stream",
     "text": [
      "Average annual transaction costs: 0.33%\n"
     ]
    }
   ],
   "source": [
    "avg_costs = total_costs.mean() * 12\n",
    "print(\"Average annual transaction costs:\", \"{0:.2f}%\".format(avg_costs * 100))"
   ]
  },
  {
   "cell_type": "code",
   "execution_count": 22,
   "metadata": {},
   "outputs": [],
   "source": [
    "portfolio_xrets_net_tc = portfolio_xrets - total_costs"
   ]
  },
  {
   "cell_type": "code",
   "execution_count": 23,
   "metadata": {},
   "outputs": [
    {
     "data": {
      "text/plain": [
       "Avg ret    14.82%\n",
       "Std        28.75%\n",
       "SR           0.52\n",
       "Skew        -1.07\n",
       "Kurt         2.77\n",
       "dtype: object"
      ]
     },
     "execution_count": 23,
     "metadata": {},
     "output_type": "execute_result"
    }
   ],
   "source": [
    "performance_statistics(portfolio_xrets_net_tc.iloc[1:])"
   ]
  },
  {
   "cell_type": "markdown",
   "metadata": {},
   "source": [
    "Transaction costs are so modest because...\n",
    "<ul>\n",
    "    <li> ... currency markets are very liquid. <br>\n",
    "    <li> ... carry trade has low turnover (interest rates are very persistent).\n",
    "</ul>\n",
    "    \n",
    "High transaction costs might occur...\n",
    "<ul>\n",
    "    <li> ... during a liquidity crisis (pressure to unwind positions). <br>\n",
    "    <li> ... when trading illiquid currencies.\n",
    "</ul>"
   ]
  },
  {
   "cell_type": "markdown",
   "metadata": {},
   "source": [
    "## 10.5 High water mark*"
   ]
  },
  {
   "cell_type": "markdown",
   "metadata": {},
   "source": [
    "Compute the portfolio’s total return including the US risk free rate, but net of transaction costs (i.e. add the annual US interest rate divided by 12 to the portfolio’s return). Next, compute the cumulative return, assuming you start with 1 USD, and then keep reinvesting all profits/losses. Further, compute the high water mark as the maximum cumulative return from the first date to the current date. Make a plot with both the cumulative return and the high water mark."
   ]
  },
  {
   "cell_type": "code",
   "execution_count": 24,
   "metadata": {},
   "outputs": [],
   "source": [
    "# return of portfolio, incl. US riskfree, net of TC\n",
    "portfolio_rets_net_tc = portfolio_xrets_net_tc + us_rate.shift()"
   ]
  },
  {
   "cell_type": "code",
   "execution_count": 25,
   "metadata": {},
   "outputs": [],
   "source": [
    "# cumulative return of portfolio, net of TC\n",
    "cum_rets_net_tc = (1 + portfolio_rets_net_tc).cumprod()"
   ]
  },
  {
   "cell_type": "code",
   "execution_count": 26,
   "metadata": {},
   "outputs": [],
   "source": [
    "# high water mark\n",
    "hwm = cum_rets_net_tc.expanding().max()"
   ]
  },
  {
   "cell_type": "code",
   "execution_count": 27,
   "metadata": {},
   "outputs": [
    {
     "data": {
      "image/png": "[encoded data removed]",
      "text/plain": [
       "<Figure size 720x360 with 1 Axes>"
      ]
     },
     "metadata": {
      "needs_background": "light"
     },
     "output_type": "display_data"
    }
   ],
   "source": [
    "# make a plot\n",
    "cum_rets_net_tc.plot(logy=True, figsize=(10, 5), label=\"Cumulative return of portfolio, net of TC\")\n",
    "hwm.plot(label=\"High water mark\")\n",
    "plt.legend()\n",
    "plt.show()"
   ]
  },
  {
   "cell_type": "markdown",
   "metadata": {},
   "source": [
    "## 10.6 Drawdown*"
   ]
  },
  {
   "cell_type": "markdown",
   "metadata": {},
   "source": [
    "Compute and plot the drawdown, $ DD_t = \\frac{\\text{HWM}_t − P_t}{\\text{HWM}_t} $, where $P$ is the cumulative return and $\\text{HWM}$ is the high water mark."
   ]
  },
  {
   "cell_type": "code",
   "execution_count": 28,
   "metadata": {},
   "outputs": [],
   "source": [
    "# compute the drawdown\n",
    "dd = (hwm - cum_rets_net_tc) / hwm"
   ]
  },
  {
   "cell_type": "code",
   "execution_count": 29,
   "metadata": {},
   "outputs": [
    {
     "data": {
      "image/png": "[encoded data removed]",
      "text/plain": [
       "<Figure size 432x288 with 1 Axes>"
      ]
     },
     "metadata": {
      "needs_background": "light"
     },
     "output_type": "display_data"
    }
   ],
   "source": [
    "# make a plot\n",
    "dd.plot()\n",
    "plt.ylabel(\"Drawdown\")\n",
    "plt.show()"
   ]
  },
  {
   "cell_type": "markdown",
   "metadata": {},
   "source": [
    "<b>\"The carry trade goes up by the stairs and down by the elevator.\"</b><br>\n",
    "$\\rightarrow$ Many small profits and episodic large losses<br>\n",
    "$\\rightarrow$ Large potential losses if the exchange rate moves against you"
   ]
  },
  {
   "cell_type": "markdown",
   "metadata": {},
   "source": [
    "## 10.7 Timing the carry trade*"
   ]
  },
  {
   "cell_type": "markdown",
   "metadata": {},
   "source": [
    "Suggest a way of dynamically timing the carry trade (that is, increasing and decreasing the position sizes over time) that might improve the performance of the strategy and / or reduce the drawdowns."
   ]
  },
  {
   "cell_type": "markdown",
   "metadata": {},
   "source": [
    "Macro traders might time the carry trade by trying to:\n",
    "<ul>\n",
    "    <li>earn carry in calm times.</li>\n",
    "    <li>unwind positions when market volatility increases.</li>\n",
    "</ul>\n",
    "\n",
    "This idea has two main shortcomings:\n",
    "<ul>\n",
    "    <li>Not all carry traders will be able to unwind before the others (risk of a \"carry unwind\").</li>\n",
    "    <li>Times of high risk may also be times of opportunity.</li>\n",
    "</ul>\n",
    "\n",
    "To determine risk and expected return, macro traders may look at volatility, change in volatility, past returns, or more fundamental factors such as the currency valuations (e.g., vs. PPP), currency reserves, trade surplus, or sovereign risk."
   ]
  }
 ],
 "metadata": {
  "kernelspec": {
   "display_name": "Python 3 (ipykernel)",
   "language": "python",
   "name": "python3"
  },
  "language_info": {
   "codemirror_mode": {
    "name": "ipython",
    "version": 3
   },
   "file_extension": ".py",
   "mimetype": "text/x-python",
   "name": "python",
   "nbconvert_exporter": "python",
   "pygments_lexer": "ipython3",
   "version": "3.9.7"
  }
 },
 "nbformat": 4,
 "nbformat_minor": 4
}
