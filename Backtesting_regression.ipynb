{
 "cells": [
  {
   "cell_type": "markdown",
   "metadata": {},
   "source": [
    "# Problem set 3"
   ]
  },
  {
   "cell_type": "markdown",
   "metadata": {},
   "source": [
    "Run cross-sectional regressions of returns on lagged values of (i) only Signal 1, (ii) only Signal 2, (iii) both signals. Follow the approach outlined on the lecture slides and run these regressions separately for each year, save the estimated coefficients and then take the average of these estimated coefficients. What do these estimates tell you and how can you use these results for designing a trading strategy"
   ]
  },
  {
   "cell_type": "code",
   "execution_count": 1,
   "metadata": {},
   "outputs": [],
   "source": [
    "import pandas as pd\n",
    "import numpy as np\n",
    "import statsmodels.api as sm\n",
    "import matplotlib.pyplot as plt\n",
    "from stargazer.stargazer import Stargazer"
   ]
  },
  {
   "cell_type": "code",
   "execution_count": 2,
   "metadata": {},
   "outputs": [],
   "source": [
    "file = 'PS_3_Exercise_XS_Regressions.xlsx'"
   ]
  },
  {
   "cell_type": "code",
   "execution_count": 3,
   "metadata": {},
   "outputs": [
    {
     "data": {
      "text/html": [
       "<div>\n",
       "<style scoped>\n",
       "    .dataframe tbody tr th:only-of-type {\n",
       "        vertical-align: middle;\n",
       "    }\n",
       "\n",
       "    .dataframe tbody tr th {\n",
       "        vertical-align: top;\n",
       "    }\n",
       "\n",
       "    .dataframe thead th {\n",
       "        text-align: right;\n",
       "    }\n",
       "</style>\n",
       "<table border=\"1\" class=\"dataframe\">\n",
       "  <thead>\n",
       "    <tr style=\"text-align: right;\">\n",
       "      <th></th>\n",
       "      <th>A1</th>\n",
       "      <th>A2</th>\n",
       "      <th>A3</th>\n",
       "      <th>A4</th>\n",
       "      <th>A5</th>\n",
       "      <th>A6</th>\n",
       "      <th>A7</th>\n",
       "      <th>A8</th>\n",
       "      <th>A9</th>\n",
       "      <th>A10</th>\n",
       "    </tr>\n",
       "    <tr>\n",
       "      <th>year</th>\n",
       "      <th></th>\n",
       "      <th></th>\n",
       "      <th></th>\n",
       "      <th></th>\n",
       "      <th></th>\n",
       "      <th></th>\n",
       "      <th></th>\n",
       "      <th></th>\n",
       "      <th></th>\n",
       "      <th></th>\n",
       "    </tr>\n",
       "  </thead>\n",
       "  <tbody>\n",
       "    <tr>\n",
       "      <th>1999</th>\n",
       "      <td>-1.200890</td>\n",
       "      <td>-0.002706</td>\n",
       "      <td>-1.618345</td>\n",
       "      <td>2.392067</td>\n",
       "      <td>4.559588</td>\n",
       "      <td>5.025696</td>\n",
       "      <td>2.243313</td>\n",
       "      <td>1.910509</td>\n",
       "      <td>0.356959</td>\n",
       "      <td>2.037739</td>\n",
       "    </tr>\n",
       "    <tr>\n",
       "      <th>2000</th>\n",
       "      <td>-13.778390</td>\n",
       "      <td>-3.705992</td>\n",
       "      <td>10.568176</td>\n",
       "      <td>6.882090</td>\n",
       "      <td>11.043641</td>\n",
       "      <td>4.223057</td>\n",
       "      <td>-13.479858</td>\n",
       "      <td>-3.230255</td>\n",
       "      <td>-24.132309</td>\n",
       "      <td>-2.264301</td>\n",
       "    </tr>\n",
       "    <tr>\n",
       "      <th>2001</th>\n",
       "      <td>10.405867</td>\n",
       "      <td>-8.496096</td>\n",
       "      <td>-16.506424</td>\n",
       "      <td>20.712764</td>\n",
       "      <td>1.587806</td>\n",
       "      <td>5.762074</td>\n",
       "      <td>1.037163</td>\n",
       "      <td>17.141244</td>\n",
       "      <td>-20.290034</td>\n",
       "      <td>-4.912387</td>\n",
       "    </tr>\n",
       "    <tr>\n",
       "      <th>2002</th>\n",
       "      <td>-11.296104</td>\n",
       "      <td>15.200846</td>\n",
       "      <td>-5.726030</td>\n",
       "      <td>-13.840255</td>\n",
       "      <td>0.907820</td>\n",
       "      <td>14.878071</td>\n",
       "      <td>0.601715</td>\n",
       "      <td>7.873615</td>\n",
       "      <td>-13.322315</td>\n",
       "      <td>-7.090368</td>\n",
       "    </tr>\n",
       "    <tr>\n",
       "      <th>2003</th>\n",
       "      <td>-13.195089</td>\n",
       "      <td>0.195082</td>\n",
       "      <td>3.927338</td>\n",
       "      <td>-9.135195</td>\n",
       "      <td>0.229435</td>\n",
       "      <td>21.435202</td>\n",
       "      <td>14.111973</td>\n",
       "      <td>-5.766736</td>\n",
       "      <td>0.213010</td>\n",
       "      <td>-13.380520</td>\n",
       "    </tr>\n",
       "  </tbody>\n",
       "</table>\n",
       "</div>"
      ],
      "text/plain": [
       "             A1         A2         A3         A4         A5         A6  \\\n",
       "year                                                                     \n",
       "1999  -1.200890  -0.002706  -1.618345   2.392067   4.559588   5.025696   \n",
       "2000 -13.778390  -3.705992  10.568176   6.882090  11.043641   4.223057   \n",
       "2001  10.405867  -8.496096 -16.506424  20.712764   1.587806   5.762074   \n",
       "2002 -11.296104  15.200846  -5.726030 -13.840255   0.907820  14.878071   \n",
       "2003 -13.195089   0.195082   3.927338  -9.135195   0.229435  21.435202   \n",
       "\n",
       "             A7         A8         A9        A10  \n",
       "year                                              \n",
       "1999   2.243313   1.910509   0.356959   2.037739  \n",
       "2000 -13.479858  -3.230255 -24.132309  -2.264301  \n",
       "2001   1.037163  17.141244 -20.290034  -4.912387  \n",
       "2002   0.601715   7.873615 -13.322315  -7.090368  \n",
       "2003  14.111973  -5.766736   0.213010 -13.380520  "
      ]
     },
     "execution_count": 3,
     "metadata": {},
     "output_type": "execute_result"
    }
   ],
   "source": [
    "# import excess returns\n",
    "xrets = pd.read_excel(file, sheet_name='excess_returns', index_col='year')\n",
    "xrets.head()"
   ]
  },
  {
   "cell_type": "code",
   "execution_count": 4,
   "metadata": {},
   "outputs": [
    {
     "data": {
      "text/html": [
       "<div>\n",
       "<style scoped>\n",
       "    .dataframe tbody tr th:only-of-type {\n",
       "        vertical-align: middle;\n",
       "    }\n",
       "\n",
       "    .dataframe tbody tr th {\n",
       "        vertical-align: top;\n",
       "    }\n",
       "\n",
       "    .dataframe thead th {\n",
       "        text-align: right;\n",
       "    }\n",
       "</style>\n",
       "<table border=\"1\" class=\"dataframe\">\n",
       "  <thead>\n",
       "    <tr style=\"text-align: right;\">\n",
       "      <th></th>\n",
       "      <th>A1</th>\n",
       "      <th>A2</th>\n",
       "      <th>A3</th>\n",
       "      <th>A4</th>\n",
       "      <th>A5</th>\n",
       "      <th>A6</th>\n",
       "      <th>A7</th>\n",
       "      <th>A8</th>\n",
       "      <th>A9</th>\n",
       "      <th>A10</th>\n",
       "    </tr>\n",
       "    <tr>\n",
       "      <th>year</th>\n",
       "      <th></th>\n",
       "      <th></th>\n",
       "      <th></th>\n",
       "      <th></th>\n",
       "      <th></th>\n",
       "      <th></th>\n",
       "      <th></th>\n",
       "      <th></th>\n",
       "      <th></th>\n",
       "      <th></th>\n",
       "    </tr>\n",
       "  </thead>\n",
       "  <tbody>\n",
       "    <tr>\n",
       "      <th>1999</th>\n",
       "      <td>5.226062</td>\n",
       "      <td>1.379757</td>\n",
       "      <td>2.305694</td>\n",
       "      <td>-0.141601</td>\n",
       "      <td>5.432593</td>\n",
       "      <td>11.091938</td>\n",
       "      <td>9.740048</td>\n",
       "      <td>10.613332</td>\n",
       "      <td>1.314855</td>\n",
       "      <td>1.453451</td>\n",
       "    </tr>\n",
       "    <tr>\n",
       "      <th>2000</th>\n",
       "      <td>2.241086</td>\n",
       "      <td>4.331550</td>\n",
       "      <td>2.830591</td>\n",
       "      <td>1.178240</td>\n",
       "      <td>4.796133</td>\n",
       "      <td>12.076056</td>\n",
       "      <td>9.420799</td>\n",
       "      <td>10.413668</td>\n",
       "      <td>1.989098</td>\n",
       "      <td>-0.820630</td>\n",
       "    </tr>\n",
       "    <tr>\n",
       "      <th>2001</th>\n",
       "      <td>2.367064</td>\n",
       "      <td>2.001189</td>\n",
       "      <td>5.381705</td>\n",
       "      <td>0.051492</td>\n",
       "      <td>3.432404</td>\n",
       "      <td>8.270845</td>\n",
       "      <td>6.737943</td>\n",
       "      <td>8.733715</td>\n",
       "      <td>1.594648</td>\n",
       "      <td>-2.408373</td>\n",
       "    </tr>\n",
       "    <tr>\n",
       "      <th>2002</th>\n",
       "      <td>0.490743</td>\n",
       "      <td>1.060368</td>\n",
       "      <td>3.586845</td>\n",
       "      <td>-0.912380</td>\n",
       "      <td>3.861850</td>\n",
       "      <td>11.499365</td>\n",
       "      <td>10.695381</td>\n",
       "      <td>9.567118</td>\n",
       "      <td>5.343481</td>\n",
       "      <td>2.324345</td>\n",
       "    </tr>\n",
       "    <tr>\n",
       "      <th>2003</th>\n",
       "      <td>4.260638</td>\n",
       "      <td>2.172856</td>\n",
       "      <td>1.685866</td>\n",
       "      <td>4.103196</td>\n",
       "      <td>4.672893</td>\n",
       "      <td>9.996212</td>\n",
       "      <td>6.193520</td>\n",
       "      <td>7.724427</td>\n",
       "      <td>0.390221</td>\n",
       "      <td>0.113872</td>\n",
       "    </tr>\n",
       "  </tbody>\n",
       "</table>\n",
       "</div>"
      ],
      "text/plain": [
       "            A1        A2        A3        A4        A5         A6         A7  \\\n",
       "year                                                                           \n",
       "1999  5.226062  1.379757  2.305694 -0.141601  5.432593  11.091938   9.740048   \n",
       "2000  2.241086  4.331550  2.830591  1.178240  4.796133  12.076056   9.420799   \n",
       "2001  2.367064  2.001189  5.381705  0.051492  3.432404   8.270845   6.737943   \n",
       "2002  0.490743  1.060368  3.586845 -0.912380  3.861850  11.499365  10.695381   \n",
       "2003  4.260638  2.172856  1.685866  4.103196  4.672893   9.996212   6.193520   \n",
       "\n",
       "             A8        A9       A10  \n",
       "year                                 \n",
       "1999  10.613332  1.314855  1.453451  \n",
       "2000  10.413668  1.989098 -0.820630  \n",
       "2001   8.733715  1.594648 -2.408373  \n",
       "2002   9.567118  5.343481  2.324345  \n",
       "2003   7.724427  0.390221  0.113872  "
      ]
     },
     "execution_count": 4,
     "metadata": {},
     "output_type": "execute_result"
    }
   ],
   "source": [
    "# import first signal\n",
    "signal_1 = pd.read_excel(file, sheet_name='signal_1', index_col='year')\n",
    "signal_1.head()"
   ]
  },
  {
   "cell_type": "code",
   "execution_count": 5,
   "metadata": {},
   "outputs": [
    {
     "data": {
      "text/html": [
       "<div>\n",
       "<style scoped>\n",
       "    .dataframe tbody tr th:only-of-type {\n",
       "        vertical-align: middle;\n",
       "    }\n",
       "\n",
       "    .dataframe tbody tr th {\n",
       "        vertical-align: top;\n",
       "    }\n",
       "\n",
       "    .dataframe thead th {\n",
       "        text-align: right;\n",
       "    }\n",
       "</style>\n",
       "<table border=\"1\" class=\"dataframe\">\n",
       "  <thead>\n",
       "    <tr style=\"text-align: right;\">\n",
       "      <th></th>\n",
       "      <th>A1</th>\n",
       "      <th>A2</th>\n",
       "      <th>A3</th>\n",
       "      <th>A4</th>\n",
       "      <th>A5</th>\n",
       "      <th>A6</th>\n",
       "      <th>A7</th>\n",
       "      <th>A8</th>\n",
       "      <th>A9</th>\n",
       "      <th>A10</th>\n",
       "    </tr>\n",
       "    <tr>\n",
       "      <th>year</th>\n",
       "      <th></th>\n",
       "      <th></th>\n",
       "      <th></th>\n",
       "      <th></th>\n",
       "      <th></th>\n",
       "      <th></th>\n",
       "      <th></th>\n",
       "      <th></th>\n",
       "      <th></th>\n",
       "      <th></th>\n",
       "    </tr>\n",
       "  </thead>\n",
       "  <tbody>\n",
       "    <tr>\n",
       "      <th>1999</th>\n",
       "      <td>5.680274</td>\n",
       "      <td>1.283266</td>\n",
       "      <td>-2.468776</td>\n",
       "      <td>-2.229475</td>\n",
       "      <td>-2.130204</td>\n",
       "      <td>1.860085</td>\n",
       "      <td>5.038685</td>\n",
       "      <td>3.659099</td>\n",
       "      <td>7.369763</td>\n",
       "      <td>0.984621</td>\n",
       "    </tr>\n",
       "    <tr>\n",
       "      <th>2000</th>\n",
       "      <td>-4.089687</td>\n",
       "      <td>3.444342</td>\n",
       "      <td>6.385925</td>\n",
       "      <td>-6.162781</td>\n",
       "      <td>0.388719</td>\n",
       "      <td>0.601581</td>\n",
       "      <td>2.082883</td>\n",
       "      <td>-4.899276</td>\n",
       "      <td>6.188875</td>\n",
       "      <td>1.256856</td>\n",
       "    </tr>\n",
       "    <tr>\n",
       "      <th>2001</th>\n",
       "      <td>2.087487</td>\n",
       "      <td>-4.529555</td>\n",
       "      <td>3.162587</td>\n",
       "      <td>4.057460</td>\n",
       "      <td>0.688006</td>\n",
       "      <td>-2.810899</td>\n",
       "      <td>0.175637</td>\n",
       "      <td>-0.976851</td>\n",
       "      <td>4.197165</td>\n",
       "      <td>1.125268</td>\n",
       "    </tr>\n",
       "    <tr>\n",
       "      <th>2002</th>\n",
       "      <td>5.218544</td>\n",
       "      <td>-0.034651</td>\n",
       "      <td>-0.846066</td>\n",
       "      <td>2.610147</td>\n",
       "      <td>0.516814</td>\n",
       "      <td>-3.934440</td>\n",
       "      <td>-2.950081</td>\n",
       "      <td>3.432391</td>\n",
       "      <td>0.958255</td>\n",
       "      <td>5.268504</td>\n",
       "    </tr>\n",
       "    <tr>\n",
       "      <th>2003</th>\n",
       "      <td>3.438038</td>\n",
       "      <td>3.176046</td>\n",
       "      <td>2.764631</td>\n",
       "      <td>3.998904</td>\n",
       "      <td>-2.879803</td>\n",
       "      <td>2.155141</td>\n",
       "      <td>-0.898226</td>\n",
       "      <td>2.506599</td>\n",
       "      <td>5.906450</td>\n",
       "      <td>-1.886517</td>\n",
       "    </tr>\n",
       "  </tbody>\n",
       "</table>\n",
       "</div>"
      ],
      "text/plain": [
       "            A1        A2        A3        A4        A5        A6        A7  \\\n",
       "year                                                                         \n",
       "1999  5.680274  1.283266 -2.468776 -2.229475 -2.130204  1.860085  5.038685   \n",
       "2000 -4.089687  3.444342  6.385925 -6.162781  0.388719  0.601581  2.082883   \n",
       "2001  2.087487 -4.529555  3.162587  4.057460  0.688006 -2.810899  0.175637   \n",
       "2002  5.218544 -0.034651 -0.846066  2.610147  0.516814 -3.934440 -2.950081   \n",
       "2003  3.438038  3.176046  2.764631  3.998904 -2.879803  2.155141 -0.898226   \n",
       "\n",
       "            A8        A9       A10  \n",
       "year                                \n",
       "1999  3.659099  7.369763  0.984621  \n",
       "2000 -4.899276  6.188875  1.256856  \n",
       "2001 -0.976851  4.197165  1.125268  \n",
       "2002  3.432391  0.958255  5.268504  \n",
       "2003  2.506599  5.906450 -1.886517  "
      ]
     },
     "execution_count": 5,
     "metadata": {},
     "output_type": "execute_result"
    }
   ],
   "source": [
    "# import second signal\n",
    "signal_2 = pd.read_excel(file, sheet_name='signal_2', index_col='year')\n",
    "signal_2.head()"
   ]
  },
  {
   "cell_type": "markdown",
   "metadata": {},
   "source": [
    "# Cross-sectional regressions"
   ]
  },
  {
   "cell_type": "code",
   "execution_count": 6,
   "metadata": {},
   "outputs": [],
   "source": [
    "# univariate for both signals separately"
   ]
  },
  {
   "cell_type": "code",
   "execution_count": 7,
   "metadata": {},
   "outputs": [
    {
     "data": {
      "text/plain": [
       "20"
      ]
     },
     "execution_count": 7,
     "metadata": {},
     "output_type": "execute_result"
    }
   ],
   "source": [
    "# number of years \n",
    "T = len(xrets)\n",
    "T"
   ]
  },
  {
   "cell_type": "code",
   "execution_count": 8,
   "metadata": {},
   "outputs": [],
   "source": [
    "# empty dictionaries for betas\n",
    "beta_1 = {}\n",
    "beta_2 = {}"
   ]
  },
  {
   "cell_type": "code",
   "execution_count": 9,
   "metadata": {},
   "outputs": [],
   "source": [
    "#regression\n",
    "for t in range(1, T):\n",
    "    y = xrets.iloc[t, :]\n",
    "    \n",
    "    # signal 1 in previous year\n",
    "    x_1 = signal_1.iloc[t-1, :]\n",
    "    # signal 2 in previous yera\n",
    "    x_2 = signal_2.iloc[t-1, :]\n",
    "    \n",
    "    reg_1 = sm.OLS(y, sm.add_constant(x_1)).fit()\n",
    "    reg_2 = sm.OLS(y, sm.add_constant(x_2)).fit()\n",
    "    \n",
    "    # update dictionaries\n",
    "    year = xrets.index[t]\n",
    "    beta_1.update({year: reg_1.params.iloc[1]})\n",
    "    beta_2.update({year: reg_2.params.iloc[1]})"
   ]
  },
  {
   "cell_type": "code",
   "execution_count": 10,
   "metadata": {},
   "outputs": [
    {
     "data": {
      "text/html": [
       "<div>\n",
       "<style scoped>\n",
       "    .dataframe tbody tr th:only-of-type {\n",
       "        vertical-align: middle;\n",
       "    }\n",
       "\n",
       "    .dataframe tbody tr th {\n",
       "        vertical-align: top;\n",
       "    }\n",
       "\n",
       "    .dataframe thead th {\n",
       "        text-align: right;\n",
       "    }\n",
       "</style>\n",
       "<table border=\"1\" class=\"dataframe\">\n",
       "  <thead>\n",
       "    <tr style=\"text-align: right;\">\n",
       "      <th></th>\n",
       "      <th>2000</th>\n",
       "      <th>2001</th>\n",
       "      <th>2002</th>\n",
       "      <th>2003</th>\n",
       "      <th>2004</th>\n",
       "      <th>2005</th>\n",
       "      <th>2006</th>\n",
       "      <th>2007</th>\n",
       "      <th>2008</th>\n",
       "      <th>2009</th>\n",
       "      <th>2010</th>\n",
       "      <th>2011</th>\n",
       "      <th>2012</th>\n",
       "      <th>2013</th>\n",
       "      <th>2014</th>\n",
       "      <th>2015</th>\n",
       "      <th>2016</th>\n",
       "      <th>2017</th>\n",
       "      <th>2018</th>\n",
       "    </tr>\n",
       "  </thead>\n",
       "  <tbody>\n",
       "    <tr>\n",
       "      <th>Signal 1</th>\n",
       "      <td>-0.076410</td>\n",
       "      <td>0.959117</td>\n",
       "      <td>1.776937</td>\n",
       "      <td>1.904798</td>\n",
       "      <td>1.123965</td>\n",
       "      <td>-0.044922</td>\n",
       "      <td>0.567425</td>\n",
       "      <td>-0.053802</td>\n",
       "      <td>1.989705</td>\n",
       "      <td>0.315548</td>\n",
       "      <td>1.079906</td>\n",
       "      <td>-0.860403</td>\n",
       "      <td>2.040224</td>\n",
       "      <td>0.544292</td>\n",
       "      <td>0.996775</td>\n",
       "      <td>0.035388</td>\n",
       "      <td>1.273050</td>\n",
       "      <td>1.112263</td>\n",
       "      <td>0.272974</td>\n",
       "    </tr>\n",
       "    <tr>\n",
       "      <th>Signal 2</th>\n",
       "      <td>-3.131685</td>\n",
       "      <td>-2.985907</td>\n",
       "      <td>-3.639560</td>\n",
       "      <td>-3.482285</td>\n",
       "      <td>-3.251829</td>\n",
       "      <td>-2.650313</td>\n",
       "      <td>-3.158417</td>\n",
       "      <td>-2.887762</td>\n",
       "      <td>-3.328420</td>\n",
       "      <td>-2.726961</td>\n",
       "      <td>-3.502978</td>\n",
       "      <td>-2.796138</td>\n",
       "      <td>-2.957817</td>\n",
       "      <td>-2.937511</td>\n",
       "      <td>-3.167290</td>\n",
       "      <td>-2.466429</td>\n",
       "      <td>-3.263979</td>\n",
       "      <td>-3.248515</td>\n",
       "      <td>-2.963009</td>\n",
       "    </tr>\n",
       "  </tbody>\n",
       "</table>\n",
       "</div>"
      ],
      "text/plain": [
       "              2000      2001      2002      2003      2004      2005  \\\n",
       "Signal 1 -0.076410  0.959117  1.776937  1.904798  1.123965 -0.044922   \n",
       "Signal 2 -3.131685 -2.985907 -3.639560 -3.482285 -3.251829 -2.650313   \n",
       "\n",
       "              2006      2007      2008      2009      2010      2011  \\\n",
       "Signal 1  0.567425 -0.053802  1.989705  0.315548  1.079906 -0.860403   \n",
       "Signal 2 -3.158417 -2.887762 -3.328420 -2.726961 -3.502978 -2.796138   \n",
       "\n",
       "              2012      2013      2014      2015      2016      2017      2018  \n",
       "Signal 1  2.040224  0.544292  0.996775  0.035388  1.273050  1.112263  0.272974  \n",
       "Signal 2 -2.957817 -2.937511 -3.167290 -2.466429 -3.263979 -3.248515 -2.963009  "
      ]
     },
     "execution_count": 10,
     "metadata": {},
     "output_type": "execute_result"
    }
   ],
   "source": [
    "# create a DataFrame\n",
    "uv_slopes = pd.DataFrame([beta_1, beta_2], index=[\"Signal 1\", \"Signal 2\"])\n",
    "uv_slopes"
   ]
  },
  {
   "cell_type": "markdown",
   "metadata": {},
   "source": [
    "# multivariate regression"
   ]
  },
  {
   "cell_type": "code",
   "execution_count": 11,
   "metadata": {},
   "outputs": [],
   "source": [
    "# create empty dictionary to store results\n",
    "mv_slopes = {}"
   ]
  },
  {
   "cell_type": "code",
   "execution_count": 12,
   "metadata": {},
   "outputs": [],
   "source": [
    "for t in range(1, T):\n",
    "    \n",
    "    #excess return of all securities in current year\n",
    "    y = xrets.iloc[t,:]\n",
    "    \n",
    "    #signals 1 and 2 in previos year\n",
    "    x = [signal_1.iloc[t-1, :], signal_2.iloc[t-1, :]]\n",
    "    x = pd.concat(x, axis=1)\n",
    "    x.columns = [\"Signal 1\", \"Signal 2\"]\n",
    "    \n",
    "    #run cross-sectional regression\n",
    "    reg = sm.OLS(y, sm.add_constant(x)).fit()\n",
    "    \n",
    "    #update dictionary with slopy coefficients\n",
    "    year = xrets.index[t]\n",
    "    mv_slopes.update({year: reg.params.loc[[\"Signal 1\", \"Signal 2\"]]})"
   ]
  },
  {
   "cell_type": "code",
   "execution_count": 13,
   "metadata": {},
   "outputs": [
    {
     "data": {
      "text/html": [
       "<div>\n",
       "<style scoped>\n",
       "    .dataframe tbody tr th:only-of-type {\n",
       "        vertical-align: middle;\n",
       "    }\n",
       "\n",
       "    .dataframe tbody tr th {\n",
       "        vertical-align: top;\n",
       "    }\n",
       "\n",
       "    .dataframe thead th {\n",
       "        text-align: right;\n",
       "    }\n",
       "</style>\n",
       "<table border=\"1\" class=\"dataframe\">\n",
       "  <thead>\n",
       "    <tr style=\"text-align: right;\">\n",
       "      <th></th>\n",
       "      <th>2000</th>\n",
       "      <th>2001</th>\n",
       "      <th>2002</th>\n",
       "      <th>2003</th>\n",
       "      <th>2004</th>\n",
       "      <th>2005</th>\n",
       "      <th>2006</th>\n",
       "      <th>2007</th>\n",
       "      <th>2008</th>\n",
       "      <th>2009</th>\n",
       "      <th>2010</th>\n",
       "      <th>2011</th>\n",
       "      <th>2012</th>\n",
       "      <th>2013</th>\n",
       "      <th>2014</th>\n",
       "      <th>2015</th>\n",
       "      <th>2016</th>\n",
       "      <th>2017</th>\n",
       "      <th>2018</th>\n",
       "    </tr>\n",
       "  </thead>\n",
       "  <tbody>\n",
       "    <tr>\n",
       "      <th>Signal 1</th>\n",
       "      <td>0.802241</td>\n",
       "      <td>0.620955</td>\n",
       "      <td>0.750355</td>\n",
       "      <td>0.634972</td>\n",
       "      <td>0.817669</td>\n",
       "      <td>0.516466</td>\n",
       "      <td>0.454035</td>\n",
       "      <td>0.682736</td>\n",
       "      <td>0.490126</td>\n",
       "      <td>0.655171</td>\n",
       "      <td>0.411805</td>\n",
       "      <td>0.437065</td>\n",
       "      <td>1.032462</td>\n",
       "      <td>0.370045</td>\n",
       "      <td>0.278630</td>\n",
       "      <td>0.685651</td>\n",
       "      <td>0.621031</td>\n",
       "      <td>0.730142</td>\n",
       "      <td>0.441804</td>\n",
       "    </tr>\n",
       "    <tr>\n",
       "      <th>Signal 2</th>\n",
       "      <td>-3.435562</td>\n",
       "      <td>-2.915693</td>\n",
       "      <td>-3.265571</td>\n",
       "      <td>-2.940174</td>\n",
       "      <td>-3.148360</td>\n",
       "      <td>-2.814824</td>\n",
       "      <td>-3.136894</td>\n",
       "      <td>-2.994694</td>\n",
       "      <td>-3.088658</td>\n",
       "      <td>-3.047315</td>\n",
       "      <td>-3.225462</td>\n",
       "      <td>-3.080505</td>\n",
       "      <td>-2.262127</td>\n",
       "      <td>-2.845647</td>\n",
       "      <td>-3.004571</td>\n",
       "      <td>-2.852327</td>\n",
       "      <td>-3.036253</td>\n",
       "      <td>-3.066983</td>\n",
       "      <td>-2.992002</td>\n",
       "    </tr>\n",
       "  </tbody>\n",
       "</table>\n",
       "</div>"
      ],
      "text/plain": [
       "              2000      2001      2002      2003      2004      2005  \\\n",
       "Signal 1  0.802241  0.620955  0.750355  0.634972  0.817669  0.516466   \n",
       "Signal 2 -3.435562 -2.915693 -3.265571 -2.940174 -3.148360 -2.814824   \n",
       "\n",
       "              2006      2007      2008      2009      2010      2011  \\\n",
       "Signal 1  0.454035  0.682736  0.490126  0.655171  0.411805  0.437065   \n",
       "Signal 2 -3.136894 -2.994694 -3.088658 -3.047315 -3.225462 -3.080505   \n",
       "\n",
       "              2012      2013      2014      2015      2016      2017      2018  \n",
       "Signal 1  1.032462  0.370045  0.278630  0.685651  0.621031  0.730142  0.441804  \n",
       "Signal 2 -2.262127 -2.845647 -3.004571 -2.852327 -3.036253 -3.066983 -2.992002  "
      ]
     },
     "execution_count": 13,
     "metadata": {},
     "output_type": "execute_result"
    }
   ],
   "source": [
    "#create pandas DataFrame\n",
    "mv_slopes = pd.DataFrame(mv_slopes)\n",
    "mv_slopes"
   ]
  },
  {
   "cell_type": "code",
   "execution_count": 14,
   "metadata": {},
   "outputs": [
    {
     "data": {
      "image/png": "[encoded data removed]",
      "text/plain": [
       "<Figure size 432x288 with 1 Axes>"
      ]
     },
     "metadata": {
      "needs_background": "light"
     },
     "output_type": "display_data"
    },
    {
     "data": {
      "image/png": "[encoded data removed]",
      "text/plain": [
       "<Figure size 432x288 with 1 Axes>"
      ]
     },
     "metadata": {
      "needs_background": "light"
     },
     "output_type": "display_data"
    }
   ],
   "source": [
    "#histogram of distributions\n",
    "uv_slopes.T.plot.hist();\n",
    "mv_slopes.T.plot.hist();"
   ]
  },
  {
   "cell_type": "markdown",
   "metadata": {},
   "source": [
    "# Compute times-series averages"
   ]
  },
  {
   "cell_type": "code",
   "execution_count": 15,
   "metadata": {},
   "outputs": [
    {
     "name": "stdout",
     "output_type": "stream",
     "text": [
      "Univariate regression slopes: \n",
      "Signal 1    0.787202\n",
      "Signal 2   -3.081411\n",
      "dtype: float64\n"
     ]
    }
   ],
   "source": [
    "print(\"Univariate regression slopes: \")\n",
    "print(uv_slopes.mean(axis=1))"
   ]
  },
  {
   "cell_type": "code",
   "execution_count": 16,
   "metadata": {},
   "outputs": [
    {
     "name": "stdout",
     "output_type": "stream",
     "text": [
      "Multivariate regression slopes: \n",
      "Signal 1    0.601756\n",
      "Signal 2   -3.008085\n",
      "dtype: float64\n"
     ]
    }
   ],
   "source": [
    "print(\"Multivariate regression slopes: \")\n",
    "print(mv_slopes.mean(axis=1))"
   ]
  },
  {
   "cell_type": "markdown",
   "metadata": {},
   "source": [
    "# Time-series regression"
   ]
  },
  {
   "cell_type": "code",
   "execution_count": 31,
   "metadata": {},
   "outputs": [
    {
     "data": {
      "text/plain": [
       "10"
      ]
     },
     "execution_count": 31,
     "metadata": {},
     "output_type": "execute_result"
    }
   ],
   "source": [
    "# number of asset \n",
    "N = xrets.shape[1]\n",
    "N"
   ]
  },
  {
   "cell_type": "code",
   "execution_count": 32,
   "metadata": {},
   "outputs": [],
   "source": [
    "#lag signals\n",
    "signal_1_lagged = signal_1.shift(1)\n",
    "signal_2_lagged = signal_2.shift(1)"
   ]
  },
  {
   "cell_type": "code",
   "execution_count": 33,
   "metadata": {},
   "outputs": [],
   "source": [
    "#create an emty dictionary\n",
    "ts_slopes = {}"
   ]
  },
  {
   "cell_type": "code",
   "execution_count": 34,
   "metadata": {},
   "outputs": [],
   "source": [
    "#loop over all securities\n",
    "for n in range(N):\n",
    "    # excess return of asset n\n",
    "    y = xrets.iloc[:, n]\n",
    "    \n",
    "    #signals 1 and 2\n",
    "    x = [signal_1_lagged.iloc[:, n], signal_2_lagged.iloc[:, n]]\n",
    "    x = pd.concat(x, axis=1)\n",
    "    x.columns = [\"Signal 1\", \"Signal 2\"]\n",
    "    \n",
    "    #run time-series regression\n",
    "    reg = sm.OLS(y, sm.add_constant(x), missing='drop').fit()\n",
    "    \n",
    "    #update dictionary\n",
    "    security = xrets.columns[n]\n",
    "    ts_slopes.update({security: reg.params.loc[[\"Signal 1\", \"Signal 2\"]]})\n",
    "    "
   ]
  },
  {
   "cell_type": "code",
   "execution_count": 35,
   "metadata": {},
   "outputs": [
    {
     "data": {
      "text/html": [
       "<div>\n",
       "<style scoped>\n",
       "    .dataframe tbody tr th:only-of-type {\n",
       "        vertical-align: middle;\n",
       "    }\n",
       "\n",
       "    .dataframe tbody tr th {\n",
       "        vertical-align: top;\n",
       "    }\n",
       "\n",
       "    .dataframe thead th {\n",
       "        text-align: right;\n",
       "    }\n",
       "</style>\n",
       "<table border=\"1\" class=\"dataframe\">\n",
       "  <thead>\n",
       "    <tr style=\"text-align: right;\">\n",
       "      <th></th>\n",
       "      <th>A1</th>\n",
       "      <th>A2</th>\n",
       "      <th>A3</th>\n",
       "      <th>A4</th>\n",
       "      <th>A5</th>\n",
       "      <th>A6</th>\n",
       "      <th>A7</th>\n",
       "      <th>A8</th>\n",
       "      <th>A9</th>\n",
       "      <th>A10</th>\n",
       "    </tr>\n",
       "  </thead>\n",
       "  <tbody>\n",
       "    <tr>\n",
       "      <th>Signal 1</th>\n",
       "      <td>0.452821</td>\n",
       "      <td>0.622324</td>\n",
       "      <td>-0.083920</td>\n",
       "      <td>0.409183</td>\n",
       "      <td>0.456471</td>\n",
       "      <td>0.279148</td>\n",
       "      <td>0.528526</td>\n",
       "      <td>0.039739</td>\n",
       "      <td>0.286476</td>\n",
       "      <td>0.706682</td>\n",
       "    </tr>\n",
       "    <tr>\n",
       "      <th>Signal 2</th>\n",
       "      <td>-2.871570</td>\n",
       "      <td>-3.133996</td>\n",
       "      <td>-2.771669</td>\n",
       "      <td>-3.156310</td>\n",
       "      <td>-2.923076</td>\n",
       "      <td>-2.994112</td>\n",
       "      <td>-3.178683</td>\n",
       "      <td>-2.935207</td>\n",
       "      <td>-3.184146</td>\n",
       "      <td>-3.166479</td>\n",
       "    </tr>\n",
       "  </tbody>\n",
       "</table>\n",
       "</div>"
      ],
      "text/plain": [
       "                A1        A2        A3        A4        A5        A6  \\\n",
       "Signal 1  0.452821  0.622324 -0.083920  0.409183  0.456471  0.279148   \n",
       "Signal 2 -2.871570 -3.133996 -2.771669 -3.156310 -2.923076 -2.994112   \n",
       "\n",
       "                A7        A8        A9       A10  \n",
       "Signal 1  0.528526  0.039739  0.286476  0.706682  \n",
       "Signal 2 -3.178683 -2.935207 -3.184146 -3.166479  "
      ]
     },
     "execution_count": 35,
     "metadata": {},
     "output_type": "execute_result"
    }
   ],
   "source": [
    "#create pandas DataFrame\n",
    "ts_slopes = pd.DataFrame(ts_slopes)\n",
    "ts_slopes"
   ]
  },
  {
   "cell_type": "markdown",
   "metadata": {},
   "source": [
    "# Cross-sectional average"
   ]
  },
  {
   "cell_type": "code",
   "execution_count": 36,
   "metadata": {},
   "outputs": [
    {
     "name": "stdout",
     "output_type": "stream",
     "text": [
      "Time-series regression slopes:\n",
      "Signal 1    0.369745\n",
      "Signal 2   -3.031525\n",
      "dtype: float64\n"
     ]
    }
   ],
   "source": [
    "print(\"Time-series regression slopes:\")\n",
    "print(ts_slopes.mean(axis=1))"
   ]
  }
 ],
 "metadata": {
  "kernelspec": {
   "display_name": "Python 3",
   "language": "python",
   "name": "python3"
  },
  "language_info": {
   "codemirror_mode": {
    "name": "ipython",
    "version": 3
   },
   "file_extension": ".py",
   "mimetype": "text/x-python",
   "name": "python",
   "nbconvert_exporter": "python",
   "pygments_lexer": "ipython3",
   "version": "3.8.3"
  }
 },
 "nbformat": 4,
 "nbformat_minor": 4
}
